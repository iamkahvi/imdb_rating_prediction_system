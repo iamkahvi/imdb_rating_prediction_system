{
  "nbformat": 4,
  "nbformat_minor": 2,
  "metadata": {
    "orig_nbformat": 4,
    "colab": {
      "name": "EDA1.ipynb",
      "provenance": []
    },
    "language_info": {
      "name": "python"
    },
    "kernelspec": {
      "name": "python3",
      "display_name": "Python 3"
    }
  },
  "cells": [
    {
      "cell_type": "code",
      "execution_count": 51,
      "source": [
        "import pandas as pd\r\n",
        "import numpy as np\r\n",
        "\r\n",
        "dfMovies = pd.read_csv('content/IMDb movies.csv', dtype={\"year\": str})\r\n",
        "dfNames = pd.read_csv('content/IMDb names.csv')\r\n",
        "dfRatings = pd.read_csv('content/IMDb ratings.csv')\r\n",
        "dfTitlePrincipals = pd.read_csv('content/IMDb title_principals.csv')\r\n",
        "\r\n",
        "# just run this cell once to load data into memory\r\n"
      ],
      "outputs": [],
      "metadata": {
        "id": "--ZYqfLiH4uo"
      }
    },
    {
      "cell_type": "code",
      "execution_count": 52,
      "source": [
        "dfMovies = dfMovies[['imdb_title_id', 'title', 'year','genre', 'duration', 'country', 'language', 'director', 'writer', 'production_company', 'budget', 'worlwide_gross_income']]\r\n",
        "dfNames = dfNames[['imdb_name_id', 'name']]\r\n",
        "dfRatings = dfRatings[['imdb_title_id', 'weighted_average_vote', 'total_votes', 'mean_vote' ]] # come back to this and include age groups/male/female votes\r\n",
        "dfTitlePrincipals = dfTitlePrincipals[['imdb_title_id', 'ordering', 'imdb_name_id']] # shouyld we get category? \"actress\"/\"actor\" (dont know if its necessary)\r\n",
        "\r\n",
        "labelVector = dfRatings['weighted_average_vote']\r\n",
        "\r\n",
        "\r\n",
        "\r\n",
        "\r\n",
        "# dfMovies = pd.merge(dfMovies, dfRatings, on=[\"imdb_title_id\"]) #@Jayden, this is sql equivalent inner join on imdb_title_id\r\n"
      ],
      "outputs": [],
      "metadata": {
        "id": "mUuTksQcH4up"
      }
    },
    {
      "cell_type": "code",
      "execution_count": 53,
      "source": [
        "dfMovies.year = dfMovies.year.str.extract('(\\d+)')\r\n",
        "dfMovies.budget = dfMovies.budget.str.extract('(\\d+)')\r\n",
        "dfMovies.worlwide_gross_income = dfMovies.worlwide_gross_income.str.extract('(\\d+)')\r\n",
        "\r\n",
        "dfMovies.year = pd.to_numeric(dfMovies.year, errors='coerce').astype('Int64')\r\n",
        "dfMovies.budget = pd.to_numeric(dfMovies.budget, errors='coerce').astype('Int64')\r\n",
        "dfMovies.worlwide_gross_income = pd.to_numeric(dfMovies.worlwide_gross_income, errors='coerce').astype('Int64')"
      ],
      "outputs": [],
      "metadata": {
        "id": "wcbW5AecS8SD"
      }
    },
    {
      "cell_type": "code",
      "execution_count": 54,
      "source": [
        "def listEncode(df, col):\r\n",
        "  if type(col) != list:\r\n",
        "    col = [col]\r\n",
        "  \r\n",
        "  toEncode = df[col[0]]\r\n",
        "  for element in range(1, len(col)):\r\n",
        "    toEncode += \", \" + df[col[element]]\r\n",
        "  one_hot = toEncode.str.get_dummies(sep=', ')\r\n",
        "  df = df.drop(col,axis = 1)\r\n",
        "  df = df.join(one_hot)\r\n",
        "  return df\r\n",
        "\r\n",
        "\r\n",
        "moviesToEncode = [\"genre\", \"country\", \"language\"] \r\n",
        "dfMovies = listEncode(dfMovies, moviesToEncode)"
      ],
      "outputs": [],
      "metadata": {
        "id": "BHBX2F1QSqfG"
      }
    },
    {
      "cell_type": "code",
      "execution_count": 55,
      "source": [
        "\r\n",
        "def encodeTopCategories(df, col, num_to_encode): # one hot encodes the top \"num_to_encode\" values present in the df column \"col\"\r\n",
        "    new_df = df.copy() # copy to avoid cascading changes\r\n",
        "    cols_to_encode = new_df[col].value_counts()[:num_to_encode].index.tolist()\r\n",
        "    # print(new_df[col].value_counts()[:num_to_encode]) # uncomment this line to see value counts of the top num_to_encode values\r\n",
        "    \r\n",
        "    for category in cols_to_encode: # one hot encode\r\n",
        "        new_df[str(col) + \"_\" + str (category)] = np.where(new_df[col] == category, 1, 0) # replace each of the top N categories with 1, if not a top N category, replace with 0\r\n",
        "    new_df = new_df.drop(col,  axis=1) #remove old column\r\n",
        "    return new_df\r\n"
      ],
      "outputs": [],
      "metadata": {}
    },
    {
      "cell_type": "code",
      "execution_count": 56,
      "source": [
        "\r\n",
        "\r\n",
        "# we will likely need to encode the entire \"years\" column, shouldnt need to limit to top 100 years since it only spans over ~100 integer years  \r\n",
        "X = dfMovies\r\n",
        "print(X.shape) \r\n",
        "# right now, these categorical columns still have multiple names such as \"Stephen King, Christopher Nolan\"\r\n",
        "X = encodeTopCategories(X, 'director', 100) # one hot encode top 100 directors only\r\n",
        "X = encodeTopCategories(X, 'writer', 100) # one hot encode top 100 writers only\r\n",
        "print(X.shape) # see the new 100 - 1 + 100 - 1 = +198 new columns\r\n",
        "\r\n",
        "# need to drop rows with NA values\r\n",
        "dfMovies.to_csv('test.csv', index=False)\r\n",
        "\r\n",
        "\r\n"
      ],
      "outputs": [
        {
          "output_type": "stream",
          "name": "stdout",
          "text": [
            "(85855, 494)\n",
            "(85855, 692)\n"
          ]
        }
      ],
      "metadata": {
        "colab": {
          "base_uri": "https://localhost:8080/",
          "height": 884
        },
        "id": "vBoj7r6-7DBO",
        "outputId": "6ecce242-00a1-47f5-d1cb-2da36af4db3c"
      }
    },
    {
      "cell_type": "code",
      "execution_count": 57,
      "source": [
        "X = dfMovies\r\n",
        "print(X)\r\n",
        "\r\n"
      ],
      "outputs": [
        {
          "output_type": "stream",
          "name": "stdout",
          "text": [
            "      imdb_title_id                           title  year  duration  \\\n",
            "0         tt0000009                      Miss Jerry  1894        45   \n",
            "1         tt0000574     The Story of the Kelly Gang  1906        70   \n",
            "2         tt0001892                  Den sorte drøm  1911        53   \n",
            "3         tt0002101                       Cleopatra  1912       100   \n",
            "4         tt0002130                       L'Inferno  1911        68   \n",
            "...             ...                             ...   ...       ...   \n",
            "85850     tt9908390                         Le lion  2020        95   \n",
            "85851     tt9911196  De Beentjes van Sint-Hildegard  2020       103   \n",
            "85852     tt9911774       Padmavyuhathile Abhimanyu  2019       130   \n",
            "85853     tt9914286               Sokagin Çocuklari  2019        98   \n",
            "85854     tt9914942      La vida sense la Sara Amat  2019        74   \n",
            "\n",
            "                                  director  \\\n",
            "0                          Alexander Black   \n",
            "1                             Charles Tait   \n",
            "2                                Urban Gad   \n",
            "3                       Charles L. Gaskill   \n",
            "4      Francesco Bertolini, Adolfo Padovan   \n",
            "...                                    ...   \n",
            "85850               Ludovic Colbeau-Justin   \n",
            "85851                      Johan Nijenhuis   \n",
            "85852                      Vineesh Aaradya   \n",
            "85853                    Ahmet Faik Akinci   \n",
            "85854                            Laura Jou   \n",
            "\n",
            "                                      writer             production_company  \\\n",
            "0                            Alexander Black     Alexander Black Photoplays   \n",
            "1                               Charles Tait                 J. and N. Tait   \n",
            "2      Urban Gad, Gebhard Schätzler-Perasini                       Fotorama   \n",
            "3                           Victorien Sardou  Helen Gardner Picture Players   \n",
            "4                            Dante Alighieri                    Milano Film   \n",
            "...                                      ...                            ...   \n",
            "85850  Alexandre Coquelle, Matthieu Le Naour              Monkey Pack Films   \n",
            "85851           Radek Bajgar, Herman Finkers           Johan Nijenhuis & Co   \n",
            "85852       Vineesh Aaradya, Vineesh Aaradya               RMCC Productions   \n",
            "85853         Ahmet Faik Akinci, Kasim Uçkan                    Gizem Ajans   \n",
            "85854                   Coral Cruz, Pep Puig  La Xarxa de Comunicació Local   \n",
            "\n",
            "       budget  worlwide_gross_income  Abkhazian  ...  Xhosa  Yakut  Yemen  \\\n",
            "0        <NA>                   <NA>          0  ...      0      0      0   \n",
            "1        2250                   <NA>          0  ...      0      0      0   \n",
            "2        <NA>                   <NA>          0  ...      0      0      0   \n",
            "3       45000                   <NA>          0  ...      0      0      0   \n",
            "4        <NA>                   <NA>          0  ...      0      0      0   \n",
            "...       ...                    ...        ...  ...    ...    ...    ...   \n",
            "85850    <NA>                3507171          0  ...      0      0      0   \n",
            "85851    <NA>                7299062          0  ...      0      0      0   \n",
            "85852    <NA>                   <NA>          0  ...      0      0      0   \n",
            "85853    <NA>                   2833          0  ...      0      0      0   \n",
            "85854    <NA>                  59794          0  ...      0      0      0   \n",
            "\n",
            "       Yiddish  Yoruba  Yugoslavia  Zaire  Zambia  Zimbabwe  Zulu  \n",
            "0            0       0           0      0       0         0     0  \n",
            "1            0       0           0      0       0         0     0  \n",
            "2            0       0           0      0       0         0     0  \n",
            "3            0       0           0      0       0         0     0  \n",
            "4            0       0           0      0       0         0     0  \n",
            "...        ...     ...         ...    ...     ...       ...   ...  \n",
            "85850        0       0           0      0       0         0     0  \n",
            "85851        0       0           0      0       0         0     0  \n",
            "85852        0       0           0      0       0         0     0  \n",
            "85853        0       0           0      0       0         0     0  \n",
            "85854        0       0           0      0       0         0     0  \n",
            "\n",
            "[85855 rows x 494 columns]\n"
          ]
        }
      ],
      "metadata": {}
    }
  ]
}