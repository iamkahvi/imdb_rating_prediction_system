{
 "cells": [
  {
   "cell_type": "code",
   "execution_count": 3,
   "source": [
    "import pandas as pd\r\n",
    "import numpy as np\r\n",
    "\r\n",
    "\r\n",
    "dfMovies = pd.read_csv('data/IMDb movies.csv', dtype={\"year\": str})\r\n",
    "dfNames = pd.read_csv('data/IMDb names.csv')\r\n",
    "dfRatings = pd.read_csv('data/IMDb ratings.csv')\r\n",
    "dfTitlePrincipals = pd.read_csv('data/IMDb title_principals.csv')\r\n",
    "\r\n",
    "# just run this cell once to load data into memory\r\n"
   ],
   "outputs": [],
   "metadata": {}
  },
  {
   "cell_type": "code",
   "execution_count": 7,
   "source": [
    "dfMovies = dfMovies[['imdb_title_id', 'title', 'year','genre', 'duration', 'country', 'language', 'director', 'writer', 'production_company', 'budget', 'worlwide_gross_income']]\r\n",
    "dfNames = dfNames[['imdb_name_id', 'name']]\r\n",
    "dfRatings = dfRatings[['imdb_title_id', 'weighted_average_vote', 'total_votes', 'mean_vote' ]] # come back to this and include age groups/male/female votes\r\n",
    "dfTitlePrincipals = dfTitlePrincipals[['imdb_title_id', 'ordering', 'imdb_name_id']] # shouyld we get category? \"actress\"/\"actor\" (dont know if its necessary)\r\n",
    "\r\n",
    "labelVector = dfRatings['weighted_average_vote']\r\n",
    "\r\n",
    "\r\n",
    "\r\n",
    "\r\n",
    "# dfMovies = pd.merge(dfMovies, dfRatings, on=[\"imdb_title_id\"]) #@Jayden, this is sql equivalent inner join on imdb_title_id\r\n"
   ],
   "outputs": [
    {
     "output_type": "stream",
     "name": "stdout",
     "text": [
      "Index(['imdb_title_id', 'weighted_average_vote', 'total_votes', 'mean_vote'], dtype='object')\n"
     ]
    }
   ],
   "metadata": {}
  }
 ],
 "metadata": {
  "orig_nbformat": 4,
  "language_info": {
   "name": "python"
  }
 },
 "nbformat": 4,
 "nbformat_minor": 2
}