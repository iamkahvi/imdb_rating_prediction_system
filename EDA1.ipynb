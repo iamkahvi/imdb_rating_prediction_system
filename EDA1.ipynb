{
  "nbformat": 4,
  "nbformat_minor": 2,
  "metadata": {
    "orig_nbformat": 4,
    "colab": {
      "name": "EDA1.ipynb",
      "provenance": []
    },
    "language_info": {
      "name": "python"
    },
    "kernelspec": {
      "name": "python3",
      "display_name": "Python 3"
    }
  },
  "cells": [
    {
      "cell_type": "code",
      "execution_count": 16,
      "source": [
        "import pandas as pd\r\n",
        "import numpy as np\r\n",
        "\r\n",
        "dfMovies = pd.read_csv('content/IMDb movies.csv', dtype={\"year\": str})\r\n",
        "dfNames = pd.read_csv('content/IMDb names.csv')\r\n",
        "dfRatings = pd.read_csv('content/IMDb ratings.csv')\r\n",
        "dfTitlePrincipals = pd.read_csv('content/IMDb title_principals.csv')\r\n",
        "\r\n",
        "# just run this cell once to load data into memory\r\n"
      ],
      "outputs": [],
      "metadata": {
        "id": "--ZYqfLiH4uo"
      }
    },
    {
      "cell_type": "code",
      "execution_count": 17,
      "source": [
        "dfMovies = dfMovies[['imdb_title_id', 'title', 'year','genre', 'duration', 'country', 'language', 'director', 'writer', 'production_company', 'budget', 'worlwide_gross_income']]\r\n",
        "dfNames = dfNames[['imdb_name_id', 'name']]\r\n",
        "dfRatings = dfRatings[['imdb_title_id', 'weighted_average_vote', 'total_votes', 'mean_vote' ]] # come back to this and include age groups/male/female votes\r\n",
        "dfTitlePrincipals = dfTitlePrincipals[['imdb_title_id', 'ordering', 'imdb_name_id']] # shouyld we get category? \"actress\"/\"actor\" (dont know if its necessary)\r\n",
        "\r\n",
        "labelVector = dfRatings['weighted_average_vote']\r\n",
        "\r\n",
        "\r\n",
        "\r\n",
        "\r\n",
        "# dfMovies = pd.merge(dfMovies, dfRatings, on=[\"imdb_title_id\"]) #@Jayden, this is sql equivalent inner join on imdb_title_id\r\n"
      ],
      "outputs": [],
      "metadata": {
        "id": "mUuTksQcH4up"
      }
    },
    {
      "cell_type": "code",
      "execution_count": 18,
      "source": [
        "dfMovies.year = dfMovies.year.str.extract('(\\d+)')\r\n",
        "dfMovies.budget = dfMovies.budget.str.extract('(\\d+)')\r\n",
        "dfMovies.worlwide_gross_income = dfMovies.worlwide_gross_income.str.extract('(\\d+)')\r\n",
        "\r\n",
        "dfMovies.year = pd.to_numeric(dfMovies.year, errors='coerce').astype('Int64')\r\n",
        "dfMovies.budget = pd.to_numeric(dfMovies.budget, errors='coerce').astype('Int64')\r\n",
        "dfMovies.worlwide_gross_income = pd.to_numeric(dfMovies.worlwide_gross_income, errors='coerce').astype('Int64')"
      ],
      "outputs": [],
      "metadata": {
        "id": "wcbW5AecS8SD"
      }
    },
    {
      "cell_type": "code",
      "execution_count": 19,
      "source": [
        "def listEncode(df, col):\r\n",
        "  if type(col) != list:\r\n",
        "    col = [col]\r\n",
        "  \r\n",
        "  toEncode = df[col[0]]\r\n",
        "  for element in range(1, len(col)):\r\n",
        "    toEncode += \", \" + df[col[element]]\r\n",
        "  one_hot = toEncode.str.get_dummies(sep=', ')\r\n",
        "  df = df.drop(col,axis = 1)\r\n",
        "  df = df.join(one_hot)\r\n",
        "  return df"
      ],
      "outputs": [],
      "metadata": {
        "id": "BHBX2F1QSqfG"
      }
    },
    {
      "cell_type": "code",
      "execution_count": 45,
      "source": [
        "\r\n",
        "def enCodeTopCategories(df, col, num_to_encode): # one hot encodes the top \"num_to_encode\" values present in the df column \"col\"\r\n",
        "    new_df = df.copy() # copy to avoid cascading changes\r\n",
        "    cols_to_encode = new_df[col].value_counts()[:num_to_encode].index.tolist()\r\n",
        "    # print(new_df[col].value_counts()[:num_to_encode]) # uncomment this line to see value counts of the top num_to_encode values\r\n",
        "    \r\n",
        "    for category in cols_to_encode: # one hot encode\r\n",
        "        new_df[str(col) + \"_\" + str (category)] = np.where(new_df[col] == category, 1, 0) # replace each of the top N categories with 1, if not a top N category, replace with 0\r\n",
        "    new_df = new_df.drop(col,  axis=1) #remove old column\r\n",
        "    return new_df\r\n"
      ],
      "outputs": [],
      "metadata": {}
    },
    {
      "cell_type": "code",
      "execution_count": 49,
      "source": [
        "# moviesToEncode = [\"genre\", \"country\", \"language\"] \r\n",
        "# dfMovies = listEncode(dfMovies, moviesToEncode)\r\n",
        "\r\n",
        "# we will likely need to encode the entire \"years\" column, shouldnt need to limit to top 100 years since it only spans over ~100 integer years  \r\n",
        "X = dfMovies\r\n",
        "print(X.shape) \r\n",
        "# right now, these categorical columns still have multiple names such as \"Stephen King, Christopher Nolan\"\r\n",
        "X = enCodeTopCategories(X, 'director', 100) # one hot encode top 100 directors only\r\n",
        "X = enCodeTopCategories(X, 'writer', 100) # one hot encode top 100 writers only\r\n",
        "X = enCodeTopCategories(X, 'country', 100) # one hot encode top 100 directors only\r\n",
        "X = enCodeTopCategories(X, 'language', 50)\r\n",
        "print(X.shape)\r\n",
        "\r\n",
        "\r\n",
        "dfMovies.to_csv('test.csv', index=False)\r\n",
        "\r\n",
        "\r\n"
      ],
      "outputs": [
        {
          "output_type": "stream",
          "name": "stdout",
          "text": [
            "(85855, 12)\n"
          ]
        },
        {
          "output_type": "error",
          "ename": "KeyError",
          "evalue": "'langauge'",
          "traceback": [
            "\u001b[1;31m---------------------------------------------------------------------------\u001b[0m",
            "\u001b[1;31mKeyError\u001b[0m                                  Traceback (most recent call last)",
            "\u001b[1;32m~\\AppData\\Roaming\\Python\\Python39\\site-packages\\pandas\\core\\indexes\\base.py\u001b[0m in \u001b[0;36mget_loc\u001b[1;34m(self, key, method, tolerance)\u001b[0m\n\u001b[0;32m   3079\u001b[0m             \u001b[1;32mtry\u001b[0m\u001b[1;33m:\u001b[0m\u001b[1;33m\u001b[0m\u001b[1;33m\u001b[0m\u001b[0m\n\u001b[1;32m-> 3080\u001b[1;33m                 \u001b[1;32mreturn\u001b[0m \u001b[0mself\u001b[0m\u001b[1;33m.\u001b[0m\u001b[0m_engine\u001b[0m\u001b[1;33m.\u001b[0m\u001b[0mget_loc\u001b[0m\u001b[1;33m(\u001b[0m\u001b[0mcasted_key\u001b[0m\u001b[1;33m)\u001b[0m\u001b[1;33m\u001b[0m\u001b[1;33m\u001b[0m\u001b[0m\n\u001b[0m\u001b[0;32m   3081\u001b[0m             \u001b[1;32mexcept\u001b[0m \u001b[0mKeyError\u001b[0m \u001b[1;32mas\u001b[0m \u001b[0merr\u001b[0m\u001b[1;33m:\u001b[0m\u001b[1;33m\u001b[0m\u001b[1;33m\u001b[0m\u001b[0m\n",
            "\u001b[1;32mpandas\\_libs\\index.pyx\u001b[0m in \u001b[0;36mpandas._libs.index.IndexEngine.get_loc\u001b[1;34m()\u001b[0m\n",
            "\u001b[1;32mpandas\\_libs\\index.pyx\u001b[0m in \u001b[0;36mpandas._libs.index.IndexEngine.get_loc\u001b[1;34m()\u001b[0m\n",
            "\u001b[1;32mpandas\\_libs\\hashtable_class_helper.pxi\u001b[0m in \u001b[0;36mpandas._libs.hashtable.PyObjectHashTable.get_item\u001b[1;34m()\u001b[0m\n",
            "\u001b[1;32mpandas\\_libs\\hashtable_class_helper.pxi\u001b[0m in \u001b[0;36mpandas._libs.hashtable.PyObjectHashTable.get_item\u001b[1;34m()\u001b[0m\n",
            "\u001b[1;31mKeyError\u001b[0m: 'langauge'",
            "\nThe above exception was the direct cause of the following exception:\n",
            "\u001b[1;31mKeyError\u001b[0m                                  Traceback (most recent call last)",
            "\u001b[1;32m<ipython-input-49-2bf3007248bd>\u001b[0m in \u001b[0;36m<module>\u001b[1;34m\u001b[0m\n\u001b[0;32m      9\u001b[0m \u001b[0mX\u001b[0m \u001b[1;33m=\u001b[0m \u001b[0menCodeTopCategories\u001b[0m\u001b[1;33m(\u001b[0m\u001b[0mX\u001b[0m\u001b[1;33m,\u001b[0m \u001b[1;34m'writer'\u001b[0m\u001b[1;33m,\u001b[0m \u001b[1;36m100\u001b[0m\u001b[1;33m)\u001b[0m \u001b[1;31m# one hot encode top 100 writers only\u001b[0m\u001b[1;33m\u001b[0m\u001b[1;33m\u001b[0m\u001b[0m\n\u001b[0;32m     10\u001b[0m \u001b[0mX\u001b[0m \u001b[1;33m=\u001b[0m \u001b[0menCodeTopCategories\u001b[0m\u001b[1;33m(\u001b[0m\u001b[0mX\u001b[0m\u001b[1;33m,\u001b[0m \u001b[1;34m'country'\u001b[0m\u001b[1;33m,\u001b[0m \u001b[1;36m100\u001b[0m\u001b[1;33m)\u001b[0m \u001b[1;31m# one hot encode top 100 directors only\u001b[0m\u001b[1;33m\u001b[0m\u001b[1;33m\u001b[0m\u001b[0m\n\u001b[1;32m---> 11\u001b[1;33m \u001b[0mX\u001b[0m \u001b[1;33m=\u001b[0m \u001b[0menCodeTopCategories\u001b[0m\u001b[1;33m(\u001b[0m\u001b[0mX\u001b[0m\u001b[1;33m,\u001b[0m \u001b[1;34m'langauge'\u001b[0m\u001b[1;33m,\u001b[0m \u001b[1;36m50\u001b[0m\u001b[1;33m)\u001b[0m\u001b[1;33m\u001b[0m\u001b[1;33m\u001b[0m\u001b[0m\n\u001b[0m\u001b[0;32m     12\u001b[0m \u001b[0mprint\u001b[0m\u001b[1;33m(\u001b[0m\u001b[0mX\u001b[0m\u001b[1;33m.\u001b[0m\u001b[0mshape\u001b[0m\u001b[1;33m)\u001b[0m\u001b[1;33m\u001b[0m\u001b[1;33m\u001b[0m\u001b[0m\n\u001b[0;32m     13\u001b[0m \u001b[1;33m\u001b[0m\u001b[0m\n",
            "\u001b[1;32m<ipython-input-45-094c120cdb1d>\u001b[0m in \u001b[0;36menCodeTopCategories\u001b[1;34m(df, col, num_to_encode)\u001b[0m\n\u001b[0;32m      1\u001b[0m \u001b[1;32mdef\u001b[0m \u001b[0menCodeTopCategories\u001b[0m\u001b[1;33m(\u001b[0m\u001b[0mdf\u001b[0m\u001b[1;33m,\u001b[0m \u001b[0mcol\u001b[0m\u001b[1;33m,\u001b[0m \u001b[0mnum_to_encode\u001b[0m\u001b[1;33m)\u001b[0m\u001b[1;33m:\u001b[0m\u001b[1;33m\u001b[0m\u001b[1;33m\u001b[0m\u001b[0m\n\u001b[0;32m      2\u001b[0m     \u001b[0mnew_df\u001b[0m \u001b[1;33m=\u001b[0m \u001b[0mdf\u001b[0m\u001b[1;33m.\u001b[0m\u001b[0mcopy\u001b[0m\u001b[1;33m(\u001b[0m\u001b[1;33m)\u001b[0m \u001b[1;31m# copy to avoid cascading changes\u001b[0m\u001b[1;33m\u001b[0m\u001b[1;33m\u001b[0m\u001b[0m\n\u001b[1;32m----> 3\u001b[1;33m     \u001b[0mcols_to_encode\u001b[0m \u001b[1;33m=\u001b[0m \u001b[0mnew_df\u001b[0m\u001b[1;33m[\u001b[0m\u001b[0mcol\u001b[0m\u001b[1;33m]\u001b[0m\u001b[1;33m.\u001b[0m\u001b[0mvalue_counts\u001b[0m\u001b[1;33m(\u001b[0m\u001b[1;33m)\u001b[0m\u001b[1;33m[\u001b[0m\u001b[1;33m:\u001b[0m\u001b[0mnum_to_encode\u001b[0m\u001b[1;33m]\u001b[0m\u001b[1;33m.\u001b[0m\u001b[0mindex\u001b[0m\u001b[1;33m.\u001b[0m\u001b[0mtolist\u001b[0m\u001b[1;33m(\u001b[0m\u001b[1;33m)\u001b[0m\u001b[1;33m\u001b[0m\u001b[1;33m\u001b[0m\u001b[0m\n\u001b[0m\u001b[0;32m      4\u001b[0m     \u001b[1;31m# print(new_df[col].value_counts()[:num_to_encode])\u001b[0m\u001b[1;33m\u001b[0m\u001b[1;33m\u001b[0m\u001b[1;33m\u001b[0m\u001b[0m\n\u001b[0;32m      5\u001b[0m \u001b[1;33m\u001b[0m\u001b[0m\n",
            "\u001b[1;32m~\\AppData\\Roaming\\Python\\Python39\\site-packages\\pandas\\core\\frame.py\u001b[0m in \u001b[0;36m__getitem__\u001b[1;34m(self, key)\u001b[0m\n\u001b[0;32m   3022\u001b[0m             \u001b[1;32mif\u001b[0m \u001b[0mself\u001b[0m\u001b[1;33m.\u001b[0m\u001b[0mcolumns\u001b[0m\u001b[1;33m.\u001b[0m\u001b[0mnlevels\u001b[0m \u001b[1;33m>\u001b[0m \u001b[1;36m1\u001b[0m\u001b[1;33m:\u001b[0m\u001b[1;33m\u001b[0m\u001b[1;33m\u001b[0m\u001b[0m\n\u001b[0;32m   3023\u001b[0m                 \u001b[1;32mreturn\u001b[0m \u001b[0mself\u001b[0m\u001b[1;33m.\u001b[0m\u001b[0m_getitem_multilevel\u001b[0m\u001b[1;33m(\u001b[0m\u001b[0mkey\u001b[0m\u001b[1;33m)\u001b[0m\u001b[1;33m\u001b[0m\u001b[1;33m\u001b[0m\u001b[0m\n\u001b[1;32m-> 3024\u001b[1;33m             \u001b[0mindexer\u001b[0m \u001b[1;33m=\u001b[0m \u001b[0mself\u001b[0m\u001b[1;33m.\u001b[0m\u001b[0mcolumns\u001b[0m\u001b[1;33m.\u001b[0m\u001b[0mget_loc\u001b[0m\u001b[1;33m(\u001b[0m\u001b[0mkey\u001b[0m\u001b[1;33m)\u001b[0m\u001b[1;33m\u001b[0m\u001b[1;33m\u001b[0m\u001b[0m\n\u001b[0m\u001b[0;32m   3025\u001b[0m             \u001b[1;32mif\u001b[0m \u001b[0mis_integer\u001b[0m\u001b[1;33m(\u001b[0m\u001b[0mindexer\u001b[0m\u001b[1;33m)\u001b[0m\u001b[1;33m:\u001b[0m\u001b[1;33m\u001b[0m\u001b[1;33m\u001b[0m\u001b[0m\n\u001b[0;32m   3026\u001b[0m                 \u001b[0mindexer\u001b[0m \u001b[1;33m=\u001b[0m \u001b[1;33m[\u001b[0m\u001b[0mindexer\u001b[0m\u001b[1;33m]\u001b[0m\u001b[1;33m\u001b[0m\u001b[1;33m\u001b[0m\u001b[0m\n",
            "\u001b[1;32m~\\AppData\\Roaming\\Python\\Python39\\site-packages\\pandas\\core\\indexes\\base.py\u001b[0m in \u001b[0;36mget_loc\u001b[1;34m(self, key, method, tolerance)\u001b[0m\n\u001b[0;32m   3080\u001b[0m                 \u001b[1;32mreturn\u001b[0m \u001b[0mself\u001b[0m\u001b[1;33m.\u001b[0m\u001b[0m_engine\u001b[0m\u001b[1;33m.\u001b[0m\u001b[0mget_loc\u001b[0m\u001b[1;33m(\u001b[0m\u001b[0mcasted_key\u001b[0m\u001b[1;33m)\u001b[0m\u001b[1;33m\u001b[0m\u001b[1;33m\u001b[0m\u001b[0m\n\u001b[0;32m   3081\u001b[0m             \u001b[1;32mexcept\u001b[0m \u001b[0mKeyError\u001b[0m \u001b[1;32mas\u001b[0m \u001b[0merr\u001b[0m\u001b[1;33m:\u001b[0m\u001b[1;33m\u001b[0m\u001b[1;33m\u001b[0m\u001b[0m\n\u001b[1;32m-> 3082\u001b[1;33m                 \u001b[1;32mraise\u001b[0m \u001b[0mKeyError\u001b[0m\u001b[1;33m(\u001b[0m\u001b[0mkey\u001b[0m\u001b[1;33m)\u001b[0m \u001b[1;32mfrom\u001b[0m \u001b[0merr\u001b[0m\u001b[1;33m\u001b[0m\u001b[1;33m\u001b[0m\u001b[0m\n\u001b[0m\u001b[0;32m   3083\u001b[0m \u001b[1;33m\u001b[0m\u001b[0m\n\u001b[0;32m   3084\u001b[0m         \u001b[1;32mif\u001b[0m \u001b[0mtolerance\u001b[0m \u001b[1;32mis\u001b[0m \u001b[1;32mnot\u001b[0m \u001b[1;32mNone\u001b[0m\u001b[1;33m:\u001b[0m\u001b[1;33m\u001b[0m\u001b[1;33m\u001b[0m\u001b[0m\n",
            "\u001b[1;31mKeyError\u001b[0m: 'langauge'"
          ]
        }
      ],
      "metadata": {
        "colab": {
          "base_uri": "https://localhost:8080/",
          "height": 884
        },
        "id": "vBoj7r6-7DBO",
        "outputId": "6ecce242-00a1-47f5-d1cb-2da36af4db3c"
      }
    },
    {
      "cell_type": "code",
      "execution_count": 22,
      "source": [
        "X = dfMovies\r\n",
        "print(X)\r\n",
        "\r\n"
      ],
      "outputs": [
        {
          "output_type": "stream",
          "name": "stdout",
          "text": [
            "      imdb_title_id                           title  year  \\\n",
            "0         tt0000009                      Miss Jerry  1894   \n",
            "1         tt0000574     The Story of the Kelly Gang  1906   \n",
            "2         tt0001892                  Den sorte drøm  1911   \n",
            "3         tt0002101                       Cleopatra  1912   \n",
            "4         tt0002130                       L'Inferno  1911   \n",
            "...             ...                             ...   ...   \n",
            "85850     tt9908390                         Le lion  2020   \n",
            "85851     tt9911196  De Beentjes van Sint-Hildegard  2020   \n",
            "85852     tt9911774       Padmavyuhathile Abhimanyu  2019   \n",
            "85853     tt9914286               Sokagin Çocuklari  2019   \n",
            "85854     tt9914942      La vida sense la Sara Amat  2019   \n",
            "\n",
            "                           genre  duration           country       language  \\\n",
            "0                        Romance        45               USA           None   \n",
            "1        Biography, Crime, Drama        70         Australia           None   \n",
            "2                          Drama        53  Germany, Denmark            NaN   \n",
            "3                 Drama, History       100               USA        English   \n",
            "4      Adventure, Drama, Fantasy        68             Italy        Italian   \n",
            "...                          ...       ...               ...            ...   \n",
            "85850                     Comedy        95   France, Belgium         French   \n",
            "85851              Comedy, Drama       103       Netherlands  German, Dutch   \n",
            "85852                      Drama       130             India      Malayalam   \n",
            "85853              Drama, Family        98            Turkey        Turkish   \n",
            "85854                      Drama        74             Spain        Catalan   \n",
            "\n",
            "                                  director  \\\n",
            "0                          Alexander Black   \n",
            "1                             Charles Tait   \n",
            "2                                Urban Gad   \n",
            "3                       Charles L. Gaskill   \n",
            "4      Francesco Bertolini, Adolfo Padovan   \n",
            "...                                    ...   \n",
            "85850               Ludovic Colbeau-Justin   \n",
            "85851                      Johan Nijenhuis   \n",
            "85852                      Vineesh Aaradya   \n",
            "85853                    Ahmet Faik Akinci   \n",
            "85854                            Laura Jou   \n",
            "\n",
            "                                      writer             production_company  \\\n",
            "0                            Alexander Black     Alexander Black Photoplays   \n",
            "1                               Charles Tait                 J. and N. Tait   \n",
            "2      Urban Gad, Gebhard Schätzler-Perasini                       Fotorama   \n",
            "3                           Victorien Sardou  Helen Gardner Picture Players   \n",
            "4                            Dante Alighieri                    Milano Film   \n",
            "...                                      ...                            ...   \n",
            "85850  Alexandre Coquelle, Matthieu Le Naour              Monkey Pack Films   \n",
            "85851           Radek Bajgar, Herman Finkers           Johan Nijenhuis & Co   \n",
            "85852       Vineesh Aaradya, Vineesh Aaradya               RMCC Productions   \n",
            "85853         Ahmet Faik Akinci, Kasim Uçkan                    Gizem Ajans   \n",
            "85854                   Coral Cruz, Pep Puig  La Xarxa de Comunicació Local   \n",
            "\n",
            "       budget  worlwide_gross_income  \n",
            "0        <NA>                   <NA>  \n",
            "1        2250                   <NA>  \n",
            "2        <NA>                   <NA>  \n",
            "3       45000                   <NA>  \n",
            "4        <NA>                   <NA>  \n",
            "...       ...                    ...  \n",
            "85850    <NA>                3507171  \n",
            "85851    <NA>                7299062  \n",
            "85852    <NA>                   <NA>  \n",
            "85853    <NA>                   2833  \n",
            "85854    <NA>                  59794  \n",
            "\n",
            "[85855 rows x 12 columns]\n"
          ]
        }
      ],
      "metadata": {}
    }
  ]
}