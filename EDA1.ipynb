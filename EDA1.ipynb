{
  "nbformat": 4,
  "nbformat_minor": 2,
  "metadata": {
    "orig_nbformat": 4,
    "colab": {
      "name": "EDA1.ipynb",
      "provenance": []
    },
    "language_info": {
      "name": "python"
    },
    "kernelspec": {
      "name": "python3",
      "display_name": "Python 3"
    }
  },
  "cells": [
    {
      "cell_type": "code",
      "execution_count": 4,
      "source": [
        "import pandas as pd\r\n",
        "import numpy as np\r\n",
        "\r\n",
        "dfMovies = pd.read_csv('content/IMDb movies.csv', dtype={\"year\": str})\r\n",
        "dfNames = pd.read_csv('content/IMDb names.csv')\r\n",
        "dfRatings = pd.read_csv('content/IMDb ratings.csv')\r\n",
        "dfTitlePrincipals = pd.read_csv('content/IMDb title_principals.csv')\r\n",
        "\r\n",
        "# just run this cell once to load data into memory\r\n"
      ],
      "outputs": [],
      "metadata": {
        "id": "--ZYqfLiH4uo"
      }
    },
    {
      "cell_type": "code",
      "execution_count": 5,
      "source": [
        "dfMovies = dfMovies[['imdb_title_id', 'title', 'year','genre', 'duration', 'country', 'language', 'director', 'writer', 'production_company', 'budget', 'worlwide_gross_income']]\n",
        "dfNames = dfNames[['imdb_name_id', 'name']]\n",
        "dfRatings = dfRatings[['imdb_title_id', 'weighted_average_vote', 'total_votes', 'mean_vote' ]] # come back to this and include age groups/male/female votes\n",
        "dfTitlePrincipals = dfTitlePrincipals[['imdb_title_id', 'ordering', 'imdb_name_id']] # shouyld we get category? \"actress\"/\"actor\" (dont know if its necessary)\n",
        "\n",
        "labelVector = dfRatings['weighted_average_vote']\n",
        "\n",
        "\n",
        "\n",
        "\n",
        "# dfMovies = pd.merge(dfMovies, dfRatings, on=[\"imdb_title_id\"]) #@Jayden, this is sql equivalent inner join on imdb_title_id\n"
      ],
      "outputs": [],
      "metadata": {
        "id": "mUuTksQcH4up"
      }
    },
    {
      "cell_type": "code",
      "execution_count": 6,
      "source": [
        "dfMovies.year = dfMovies.year.str.extract('(\\d+)')\r\n",
        "dfMovies.budget = dfMovies.budget.str.extract('(\\d+)')\r\n",
        "dfMovies.worlwide_gross_income = dfMovies.worlwide_gross_income.str.extract('(\\d+)')\r\n",
        "\r\n",
        "dfMovies.year = pd.to_numeric(dfMovies.year, errors='coerce').astype('Int64')\r\n",
        "dfMovies.budget = pd.to_numeric(dfMovies.budget, errors='coerce').astype('Int64')\r\n",
        "dfMovies.worlwide_gross_income = pd.to_numeric(dfMovies.worlwide_gross_income, errors='coerce').astype('Int64')"
      ],
      "outputs": [],
      "metadata": {
        "id": "wcbW5AecS8SD"
      }
    },
    {
      "cell_type": "code",
      "execution_count": 7,
      "source": [
        "def listEncode(df, col):\r\n",
        "  if type(col) != list:\r\n",
        "    col = [col]\r\n",
        "  \r\n",
        "  toEncode = df[col[0]]\r\n",
        "  for element in range(1, len(col)):\r\n",
        "    toEncode += \", \" + df[col[element]]\r\n",
        "  one_hot = toEncode.str.get_dummies(sep=', ')\r\n",
        "  df = df.drop(col,axis = 1)\r\n",
        "  df = df.join(one_hot)\r\n",
        "  return df"
      ],
      "outputs": [],
      "metadata": {
        "id": "BHBX2F1QSqfG"
      }
    },
    {
      "cell_type": "code",
      "execution_count": 8,
      "source": [
        "moviesToEncode = [\"genre\", \"country\", \"language\"] \r\n",
        "dfMovies = listEncode(dfMovies, moviesToEncode)"
      ],
      "outputs": [],
      "metadata": {
        "colab": {
          "base_uri": "https://localhost:8080/",
          "height": 884
        },
        "id": "vBoj7r6-7DBO",
        "outputId": "6ecce242-00a1-47f5-d1cb-2da36af4db3c"
      }
    },
    {
      "cell_type": "code",
      "execution_count": 13,
      "source": [
        "X = dfMovies.dropna()\r\n",
        "print(X.describe())\r\n",
        "\r\n"
      ],
      "outputs": [
        {
          "output_type": "stream",
          "name": "stdout",
          "text": [
            "               year      duration        budget  worlwide_gross_income  \\\n",
            "count  12572.000000  12572.000000  1.257200e+04           1.257200e+04   \n",
            "mean    2004.422606    106.257397  7.737259e+07           4.895112e+07   \n",
            "std       12.788855     19.606431  1.363716e+09           1.336976e+08   \n",
            "min     1920.000000     60.000000  0.000000e+00           1.600000e+01   \n",
            "25%     2000.000000     93.000000  2.750000e+06           3.691395e+05   \n",
            "50%     2007.500000    102.000000  1.000000e+07           4.612604e+06   \n",
            "75%     2013.000000    115.000000  2.700000e+07           3.496173e+07   \n",
            "max     2020.000000    321.000000  1.200000e+11           2.797801e+09   \n",
            "\n",
            "          Abkhazian    Aboriginal        Acholi        Action    Adult  \\\n",
            "count  12572.000000  12572.000000  12572.000000  12572.000000  12572.0   \n",
            "mean       0.000080      0.001193      0.000080      0.211343      0.0   \n",
            "std        0.008919      0.034522      0.008919      0.408277      0.0   \n",
            "min        0.000000      0.000000      0.000000      0.000000      0.0   \n",
            "25%        0.000000      0.000000      0.000000      0.000000      0.0   \n",
            "50%        0.000000      0.000000      0.000000      0.000000      0.0   \n",
            "75%        0.000000      0.000000      0.000000      0.000000      0.0   \n",
            "max        1.000000      1.000000      1.000000      1.000000      0.0   \n",
            "\n",
            "         Adventure  ...         Xhosa    Yakut         Yemen       Yiddish  \\\n",
            "count  12572.00000  ...  12572.000000  12572.0  12572.000000  12572.000000   \n",
            "mean       0.14580  ...      0.001432      0.0      0.000080      0.002784   \n",
            "std        0.35292  ...      0.037813      0.0      0.008919      0.052692   \n",
            "min        0.00000  ...      0.000000      0.0      0.000000      0.000000   \n",
            "25%        0.00000  ...      0.000000      0.0      0.000000      0.000000   \n",
            "50%        0.00000  ...      0.000000      0.0      0.000000      0.000000   \n",
            "75%        0.00000  ...      0.000000      0.0      0.000000      0.000000   \n",
            "max        1.00000  ...      1.000000      0.0      1.000000      1.000000   \n",
            "\n",
            "             Yoruba    Yugoslavia    Zaire   Zambia  Zimbabwe          Zulu  \n",
            "count  12572.000000  12572.000000  12572.0  12572.0   12572.0  12572.000000  \n",
            "mean       0.000239      0.000239      0.0      0.0       0.0      0.001352  \n",
            "std        0.015446      0.015446      0.0      0.0       0.0      0.036749  \n",
            "min        0.000000      0.000000      0.0      0.0       0.0      0.000000  \n",
            "25%        0.000000      0.000000      0.0      0.0       0.0      0.000000  \n",
            "50%        0.000000      0.000000      0.0      0.0       0.0      0.000000  \n",
            "75%        0.000000      0.000000      0.0      0.0       0.0      0.000000  \n",
            "max        1.000000      1.000000      0.0      0.0       0.0      1.000000  \n",
            "\n",
            "[8 rows x 489 columns]\n"
          ]
        }
      ],
      "metadata": {}
    }
  ]
}