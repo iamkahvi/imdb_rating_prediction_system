{
 "cells": [
  {
   "cell_type": "code",
   "execution_count": 1,
   "metadata": {
    "id": "--ZYqfLiH4uo"
   },
   "outputs": [],
   "source": [
    "import pandas as pd\n",
    "import numpy as np\n",
    "import matplotlib.pyplot as plt\n",
    "from datetime import datetime\n",
    "from datetime import date"
   ]
  },
  {
   "cell_type": "markdown",
   "metadata": {},
   "source": [
    "## Importing CSVs"
   ]
  },
  {
   "cell_type": "code",
   "execution_count": 2,
   "metadata": {},
   "outputs": [],
   "source": [
    "dfMovies = pd.read_csv(\n",
    "    \"content/IMDb movies w top_actor, top_actor_gender.csv\",\n",
    "    dtype={\"year\": str, \"budget\": str},\n",
    "    sep=\"\\t\",\n",
    ")\n",
    "dfNames = pd.read_csv(\"content/IMDb names.csv\")\n",
    "dfRatings = pd.read_csv(\"content/IMDb ratings.csv\")\n",
    "dfTitlePrincipals = pd.read_csv(\"content/IMDb title_principals.csv\")"
   ]
  },
  {
   "cell_type": "code",
   "execution_count": 3,
   "metadata": {},
   "outputs": [
    {
     "data": {
      "text/plain": [
       "(85220, 24)"
      ]
     },
     "execution_count": 3,
     "metadata": {},
     "output_type": "execute_result"
    }
   ],
   "source": [
    "dfMovies.shape"
   ]
  },
  {
   "cell_type": "code",
   "execution_count": 4,
   "metadata": {
    "id": "mUuTksQcH4up"
   },
   "outputs": [
    {
     "data": {
      "text/plain": [
       "(85220, 15)"
      ]
     },
     "execution_count": 4,
     "metadata": {},
     "output_type": "execute_result"
    }
   ],
   "source": [
    "# Pick the columns from each of the datasets that should be used to train the ML algorithms\n",
    "dfMovies = dfMovies[\n",
    "    [\n",
    "        \"imdb_title_id\",\n",
    "        \"title\",\n",
    "        \"year\",\n",
    "        \"genre\",\n",
    "        \"duration\",\n",
    "        \"country\",\n",
    "        \"language\",\n",
    "        \"director\",\n",
    "        \"writer\",\n",
    "        \"production_company\",\n",
    "        \"budget\",\n",
    "        \"top_actor\",\n",
    "        \"top_actor_gender\",\n",
    "        \"date_published\"\n",
    "    ]\n",
    "]\n",
    "\n",
    "dfRatings = dfRatings[\n",
    "    [\"imdb_title_id\", \"weighted_average_vote\"]\n",
    "]  # come back to this and include age groups/male/female votes\n",
    "dfTitlePrincipals = dfTitlePrincipals[\n",
    "    [\"imdb_title_id\", \"ordering\", \"imdb_name_id\"]\n",
    "]  # should we get category? \"actress\"/\"actor\" (dont know if its necessary)\n",
    "\n",
    "dfMovies = pd.merge(dfMovies, dfRatings, on=[\"imdb_title_id\"])\n",
    "\n",
    "dfMovies.shape"
   ]
  },
  {
   "cell_type": "markdown",
   "metadata": {},
   "source": [
    "## Merging dfNames with dfMovies"
   ]
  },
  {
   "cell_type": "code",
   "execution_count": 5,
   "metadata": {},
   "outputs": [],
   "source": [
    "dfNames = dfNames.drop_duplicates(\"name\")\n",
    "\n",
    "dfMovies_Names = pd.merge(\n",
    "    dfMovies,\n",
    "    dfNames[\n",
    "        [\n",
    "            \"name\",\n",
    "            \"height\",\n",
    "            \"divorces\",\n",
    "            \"date_of_birth\",\n",
    "            \"date_of_death\",\n",
    "        ]\n",
    "    ],\n",
    "    left_on=[\"top_actor\"],\n",
    "    right_on=[\"name\"]\n",
    ").drop(columns=[\"name\"])"
   ]
  },
  {
   "cell_type": "code",
   "execution_count": 6,
   "metadata": {},
   "outputs": [
    {
     "data": {
      "text/plain": [
       "(85220, 19)"
      ]
     },
     "execution_count": 6,
     "metadata": {},
     "output_type": "execute_result"
    }
   ],
   "source": [
    "dfMovies_Names.shape"
   ]
  },
  {
   "cell_type": "code",
   "execution_count": 7,
   "metadata": {},
   "outputs": [
    {
     "data": {
      "text/plain": [
       "imdb_title_id             object\n",
       "title                     object\n",
       "year                      object\n",
       "genre                     object\n",
       "duration                   int64\n",
       "country                   object\n",
       "language                  object\n",
       "director                  object\n",
       "writer                    object\n",
       "production_company        object\n",
       "budget                    object\n",
       "top_actor                 object\n",
       "top_actor_gender          object\n",
       "date_published            object\n",
       "weighted_average_vote    float64\n",
       "height                   float64\n",
       "divorces                   int64\n",
       "date_of_birth             object\n",
       "date_of_death             object\n",
       "dtype: object"
      ]
     },
     "execution_count": 7,
     "metadata": {},
     "output_type": "execute_result"
    }
   ],
   "source": [
    "dfMovies_Names.dtypes"
   ]
  },
  {
   "cell_type": "markdown",
   "metadata": {},
   "source": [
    "## Adding `actor_age` and `actor_age_at_release` to dfMovies"
   ]
  },
  {
   "cell_type": "code",
   "execution_count": 8,
   "metadata": {},
   "outputs": [],
   "source": [
    "def calc_age_at_release(row):\n",
    "    try:\n",
    "        born = datetime.strptime(row[\"date_of_birth\"], \"%Y-%m-%d\").date()\n",
    "        released = datetime.strptime(row[\"date_published\"], \"%Y-%m-%d\").date()\n",
    "        \n",
    "        age = released.year - born.year\n",
    "        \n",
    "        return age if age > 0 and age < 120 else None\n",
    "    except:\n",
    "        return None"
   ]
  },
  {
   "cell_type": "markdown",
   "metadata": {},
   "source": [
    "Two functions to calculate the top actors age and the top actor age when the movie is released."
   ]
  },
  {
   "cell_type": "code",
   "execution_count": 9,
   "metadata": {},
   "outputs": [],
   "source": [
    "dfMovies_Names[\"actor_age_at_release\"] = dfMovies_Names.apply(calc_age_at_release, axis=1)"
   ]
  },
  {
   "cell_type": "code",
   "execution_count": 10,
   "metadata": {},
   "outputs": [
    {
     "data": {
      "text/plain": [
       "count    64295.000000\n",
       "mean        39.167198\n",
       "std         13.095969\n",
       "min          1.000000\n",
       "25%         30.000000\n",
       "50%         37.000000\n",
       "75%         47.000000\n",
       "max        119.000000\n",
       "Name: actor_age_at_release, dtype: float64"
      ]
     },
     "execution_count": 10,
     "metadata": {},
     "output_type": "execute_result"
    }
   ],
   "source": [
    "dfMovies_Names[\"actor_age_at_release\"].describe()"
   ]
  },
  {
   "cell_type": "code",
   "execution_count": 11,
   "metadata": {},
   "outputs": [],
   "source": [
    "dfMovies_Names = dfMovies_Names.drop(columns=[\"date_of_birth\", \"date_of_death\", \"date_published\"])"
   ]
  },
  {
   "cell_type": "markdown",
   "metadata": {},
   "source": [
    "Dropping the features used to calculate the new features."
   ]
  },
  {
   "cell_type": "code",
   "execution_count": 12,
   "metadata": {},
   "outputs": [
    {
     "data": {
      "text/plain": [
       "(15688, 17)"
      ]
     },
     "execution_count": 12,
     "metadata": {},
     "output_type": "execute_result"
    }
   ],
   "source": [
    "dfMovies_Names.dropna().shape"
   ]
  },
  {
   "cell_type": "code",
   "execution_count": 13,
   "metadata": {},
   "outputs": [
    {
     "data": {
      "text/html": [
       "<div>\n",
       "<style scoped>\n",
       "    .dataframe tbody tr th:only-of-type {\n",
       "        vertical-align: middle;\n",
       "    }\n",
       "\n",
       "    .dataframe tbody tr th {\n",
       "        vertical-align: top;\n",
       "    }\n",
       "\n",
       "    .dataframe thead th {\n",
       "        text-align: right;\n",
       "    }\n",
       "</style>\n",
       "<table border=\"1\" class=\"dataframe\">\n",
       "  <thead>\n",
       "    <tr style=\"text-align: right;\">\n",
       "      <th></th>\n",
       "      <th>0</th>\n",
       "    </tr>\n",
       "  </thead>\n",
       "  <tbody>\n",
       "    <tr>\n",
       "      <th>imdb_title_id</th>\n",
       "      <td>object</td>\n",
       "    </tr>\n",
       "    <tr>\n",
       "      <th>title</th>\n",
       "      <td>object</td>\n",
       "    </tr>\n",
       "    <tr>\n",
       "      <th>year</th>\n",
       "      <td>object</td>\n",
       "    </tr>\n",
       "    <tr>\n",
       "      <th>genre</th>\n",
       "      <td>object</td>\n",
       "    </tr>\n",
       "    <tr>\n",
       "      <th>duration</th>\n",
       "      <td>int64</td>\n",
       "    </tr>\n",
       "    <tr>\n",
       "      <th>country</th>\n",
       "      <td>object</td>\n",
       "    </tr>\n",
       "    <tr>\n",
       "      <th>language</th>\n",
       "      <td>object</td>\n",
       "    </tr>\n",
       "    <tr>\n",
       "      <th>director</th>\n",
       "      <td>object</td>\n",
       "    </tr>\n",
       "    <tr>\n",
       "      <th>writer</th>\n",
       "      <td>object</td>\n",
       "    </tr>\n",
       "    <tr>\n",
       "      <th>production_company</th>\n",
       "      <td>object</td>\n",
       "    </tr>\n",
       "    <tr>\n",
       "      <th>budget</th>\n",
       "      <td>object</td>\n",
       "    </tr>\n",
       "    <tr>\n",
       "      <th>top_actor</th>\n",
       "      <td>object</td>\n",
       "    </tr>\n",
       "    <tr>\n",
       "      <th>top_actor_gender</th>\n",
       "      <td>object</td>\n",
       "    </tr>\n",
       "    <tr>\n",
       "      <th>weighted_average_vote</th>\n",
       "      <td>float64</td>\n",
       "    </tr>\n",
       "    <tr>\n",
       "      <th>height</th>\n",
       "      <td>float64</td>\n",
       "    </tr>\n",
       "    <tr>\n",
       "      <th>divorces</th>\n",
       "      <td>int64</td>\n",
       "    </tr>\n",
       "    <tr>\n",
       "      <th>actor_age_at_release</th>\n",
       "      <td>float64</td>\n",
       "    </tr>\n",
       "  </tbody>\n",
       "</table>\n",
       "</div>"
      ],
      "text/plain": [
       "                             0\n",
       "imdb_title_id           object\n",
       "title                   object\n",
       "year                    object\n",
       "genre                   object\n",
       "duration                 int64\n",
       "country                 object\n",
       "language                object\n",
       "director                object\n",
       "writer                  object\n",
       "production_company      object\n",
       "budget                  object\n",
       "top_actor               object\n",
       "top_actor_gender        object\n",
       "weighted_average_vote  float64\n",
       "height                 float64\n",
       "divorces                 int64\n",
       "actor_age_at_release   float64"
      ]
     },
     "execution_count": 13,
     "metadata": {},
     "output_type": "execute_result"
    }
   ],
   "source": [
    "pd.DataFrame(dfMovies_Names.dtypes)"
   ]
  },
  {
   "cell_type": "markdown",
   "metadata": {},
   "source": [
    "## Binning `actor_age_at_release`"
   ]
  },
  {
   "cell_type": "code",
   "execution_count": 14,
   "metadata": {},
   "outputs": [],
   "source": [
    "dfMovies_Names[\"actor_age_at_release\"], bins = pd.cut(\n",
    "    dfMovies_Names[\"actor_age_at_release\"],\n",
    "    4,\n",
    "    labels=[\"child\", \"teenager\", \"adult\", \"old\"],\n",
    "    retbins=True,\n",
    ")"
   ]
  },
  {
   "cell_type": "code",
   "execution_count": 15,
   "metadata": {},
   "outputs": [
    {
     "data": {
      "text/plain": [
       "array([  0.882,  30.5  ,  60.   ,  89.5  , 119.   ])"
      ]
     },
     "execution_count": 15,
     "metadata": {},
     "output_type": "execute_result"
    }
   ],
   "source": [
    "bins"
   ]
  },
  {
   "cell_type": "markdown",
   "metadata": {},
   "source": [
    "## Casting `year` and `budget` features"
   ]
  },
  {
   "cell_type": "code",
   "execution_count": 16,
   "metadata": {
    "id": "wcbW5AecS8SD"
   },
   "outputs": [],
   "source": [
    "dfMovies_Names[\"year\"] = dfMovies_Names[\"year\"].astype(str).str.extract(\"(\\d+)\")\n",
    "dfMovies_Names[\"budget\"] = dfMovies_Names[\"budget\"].astype(str).str.extract(\"(\\d+)\")\n",
    "\n",
    "dfMovies_Names.year = pd.to_numeric(dfMovies_Names.year, errors=\"coerce\").astype(\"Int64\")\n",
    "dfMovies_Names.budget = pd.to_numeric(dfMovies_Names.budget, errors=\"coerce\").astype(\"Int64\")"
   ]
  },
  {
   "cell_type": "code",
   "execution_count": 17,
   "metadata": {},
   "outputs": [
    {
     "data": {
      "text/plain": [
       "imdb_title_id              object\n",
       "title                      object\n",
       "year                        Int64\n",
       "genre                      object\n",
       "duration                    int64\n",
       "country                    object\n",
       "language                   object\n",
       "director                   object\n",
       "writer                     object\n",
       "production_company         object\n",
       "budget                      Int64\n",
       "top_actor                  object\n",
       "top_actor_gender           object\n",
       "weighted_average_vote     float64\n",
       "height                    float64\n",
       "divorces                    int64\n",
       "actor_age_at_release     category\n",
       "dtype: object"
      ]
     },
     "execution_count": 17,
     "metadata": {},
     "output_type": "execute_result"
    }
   ],
   "source": [
    "dfMovies_Names.dtypes"
   ]
  },
  {
   "cell_type": "markdown",
   "metadata": {},
   "source": [
    "## Removing nulls and renaming"
   ]
  },
  {
   "cell_type": "code",
   "execution_count": 18,
   "metadata": {},
   "outputs": [],
   "source": [
    "dfMovies_Names = dfMovies_Names.dropna()\n",
    "df = dfMovies_Names"
   ]
  },
  {
   "cell_type": "code",
   "execution_count": 19,
   "metadata": {},
   "outputs": [
    {
     "data": {
      "text/plain": [
       "(15688, 17)"
      ]
     },
     "execution_count": 19,
     "metadata": {},
     "output_type": "execute_result"
    }
   ],
   "source": [
    "df.shape"
   ]
  },
  {
   "cell_type": "markdown",
   "metadata": {},
   "source": [
    "Dropping any rows with `NaN`."
   ]
  },
  {
   "cell_type": "markdown",
   "metadata": {},
   "source": [
    "## Scaling Continuous Features"
   ]
  },
  {
   "cell_type": "code",
   "execution_count": 20,
   "metadata": {},
   "outputs": [],
   "source": [
    "to_scale = [\n",
    "    \"duration\",\n",
    "    \"budget\",\n",
    "    \"height\",\n",
    "    \"divorces\"\n",
    "]"
   ]
  },
  {
   "cell_type": "code",
   "execution_count": 21,
   "metadata": {},
   "outputs": [
    {
     "name": "stdout",
     "output_type": "stream",
     "text": [
      "scaling duration...\n",
      "scaling budget...\n",
      "scaling height...\n",
      "scaling divorces...\n"
     ]
    }
   ],
   "source": [
    "from sklearn.preprocessing import StandardScaler\n",
    "\n",
    "scaler = StandardScaler()\n",
    "\n",
    "for col in to_scale:\n",
    "    print(f\"scaling {col}...\")\n",
    "    df[[col]] = scaler.fit_transform(df[[col]])"
   ]
  },
  {
   "cell_type": "markdown",
   "metadata": {},
   "source": [
    "## Encoding Functions"
   ]
  },
  {
   "cell_type": "code",
   "execution_count": 22,
   "metadata": {},
   "outputs": [],
   "source": [
    "def encode_normal(df, col):\n",
    "    return pd.get_dummies(df[col])"
   ]
  },
  {
   "cell_type": "code",
   "execution_count": 23,
   "metadata": {},
   "outputs": [],
   "source": [
    "def other_col(row):\n",
    "    if row.sum() == 0:\n",
    "        return 1\n",
    "    return 0"
   ]
  },
  {
   "cell_type": "code",
   "execution_count": 24,
   "metadata": {},
   "outputs": [],
   "source": [
    "def encode_top_n(df, col, top):\n",
    "    genre_encoded_df = pd.DataFrame()\n",
    "    \n",
    "    top_cat = pd.Index([f\"{col}_{x}\" for x in df[col].value_counts().index])[:top]\n",
    "    genre_encoded_df = pd.get_dummies(df[col], prefix=col)[top_cat]\n",
    "\n",
    "    genre_encoded_df[\"other_\" + col] = genre_encoded_df.apply(other_col, axis=1)\n",
    "\n",
    "    return genre_encoded_df"
   ]
  },
  {
   "cell_type": "markdown",
   "metadata": {},
   "source": [
    "`encode_normal` returns the encoded column in a DataFrame.\n",
    "\n",
    "`encode_top_n` return the top `n` most frequent values encoded in a DataFrame with an `other_` column for all the other values."
   ]
  },
  {
   "cell_type": "markdown",
   "metadata": {},
   "source": [
    "## Analyzing Categorical Features"
   ]
  },
  {
   "cell_type": "markdown",
   "metadata": {},
   "source": [
    "### `genre`"
   ]
  },
  {
   "cell_type": "code",
   "execution_count": 25,
   "metadata": {},
   "outputs": [
    {
     "data": {
      "text/plain": [
       "Drama                          1147\n",
       "Comedy                          812\n",
       "Comedy, Drama                   590\n",
       "Drama, Romance                  547\n",
       "Comedy, Drama, Romance          545\n",
       "                               ... \n",
       "Action, Comedy, Western           1\n",
       "Adventure, Comedy, Thriller       1\n",
       "Drama, Thriller, Mystery          1\n",
       "Crime, Horror, Sci-Fi             1\n",
       "Adventure, History, Western       1\n",
       "Name: genre, Length: 666, dtype: int64"
      ]
     },
     "execution_count": 25,
     "metadata": {},
     "output_type": "execute_result"
    }
   ],
   "source": [
    "df[\"genre\"].value_counts()"
   ]
  },
  {
   "cell_type": "markdown",
   "metadata": {},
   "source": [
    "It looks like there are a significant number of movies that classify as the same genre."
   ]
  },
  {
   "cell_type": "code",
   "execution_count": 26,
   "metadata": {},
   "outputs": [
    {
     "name": "stdout",
     "output_type": "stream",
     "text": [
      "(223,)\n",
      "(30,)\n",
      "8584.0\n",
      "55%\n"
     ]
    }
   ],
   "source": [
    "genre_1_freq = (\n",
    "    df[\"genre\"].value_counts().where(df[\"genre\"].value_counts() == 1).dropna()\n",
    ")\n",
    "\n",
    "print(genre_1_freq.shape)\n",
    "\n",
    "genre_over_100_freq = (\n",
    "    df[\"genre\"].value_counts().where(df[\"genre\"].value_counts() > 100).dropna()\n",
    ")\n",
    "\n",
    "print(genre_over_100_freq.shape)\n",
    "print(genre_over_100_freq.sum())\n",
    "print(f\"{(genre_over_100_freq.sum()) / (df.shape[0])*100:.0f}%\")"
   ]
  },
  {
   "cell_type": "markdown",
   "metadata": {},
   "source": [
    "Specifically, there are 227 genres that only classify *one movie*. However there are 33 genres that classify over 100 movies. In total, those 33 genres account for 9,619 movies, which is over 50% of the movies in our dataset.\n",
    "\n",
    "Therefore, it's probably safe to just OneHotEncode the existing values in `genres`.\n",
    "\n",
    "Similar analysis of the following features are below."
   ]
  },
  {
   "cell_type": "markdown",
   "metadata": {},
   "source": [
    "### Other categorical features"
   ]
  },
  {
   "cell_type": "code",
   "execution_count": 27,
   "metadata": {},
   "outputs": [],
   "source": [
    "to_encode = [\n",
    "    \"genre\",\n",
    "    \"country\",\n",
    "    \"language\",\n",
    "    \"director\",\n",
    "    \"writer\",\n",
    "    \"production_company\",\n",
    "    \"top_actor\"\n",
    "]"
   ]
  },
  {
   "cell_type": "code",
   "execution_count": 28,
   "metadata": {
    "scrolled": true
   },
   "outputs": [
    {
     "name": "stdout",
     "output_type": "stream",
     "text": [
      "\n",
      "GENRE --------------------------------------------\n",
      "Drama                          1147\n",
      "Comedy                          812\n",
      "Comedy, Drama                   590\n",
      "Drama, Romance                  547\n",
      "Comedy, Drama, Romance          545\n",
      "                               ... \n",
      "Action, Comedy, Western           1\n",
      "Adventure, Comedy, Thriller       1\n",
      "Drama, Thriller, Mystery          1\n",
      "Crime, Horror, Sci-Fi             1\n",
      "Adventure, History, Western       1\n",
      "Name: genre, Length: 666, dtype: int64\n",
      "\n",
      "num of categories with 1 movie: 223\n",
      "\n",
      "num of categories with over 100 movies: 30 which accounts for 8584\n",
      "\n",
      "num of categories with > 100 movie: 30\n",
      "accounts for 8584 or 55% of the dataset\n",
      "\n",
      "COUNTRY --------------------------------------------\n",
      "USA                                  7902\n",
      "UK                                    612\n",
      "India                                 470\n",
      "Canada                                347\n",
      "UK, USA                               303\n",
      "                                     ... \n",
      "UK, Spain, Germany, Italy, France       1\n",
      "Poland, Hungary                         1\n",
      "Norway, Denmark, Germany                1\n",
      "France, Spain, Mexico                   1\n",
      "Germany, Belgium, USA                   1\n",
      "Name: country, Length: 1610, dtype: int64\n",
      "\n",
      "num of categories with 1 movie: 1212\n",
      "\n",
      "num of categories with over 100 movies: 17 which accounts for 11476\n",
      "\n",
      "num of categories with > 100 movie: 17\n",
      "accounts for 11476 or 73% of the dataset\n",
      "\n",
      "LANGUAGE --------------------------------------------\n",
      "English                                       9106\n",
      "English, Spanish                               553\n",
      "English, French                                350\n",
      "French                                         310\n",
      "Spanish                                        193\n",
      "                                              ... \n",
      "Spanish, Kriolu, Aragonese                       1\n",
      "Spanish, Flemish, Latin, Portuguese, Dutch       1\n",
      "English, Arabic, Turkish                         1\n",
      "Mandarin, Min Nan, Cantonese                     1\n",
      "Swedish, English, Thai                           1\n",
      "Name: language, Length: 1531, dtype: int64\n",
      "\n",
      "num of categories with 1 movie: 1155\n",
      "\n",
      "num of categories with over 100 movies: 13 which accounts for 11658\n",
      "\n",
      "num of categories with > 100 movie: 13\n",
      "accounts for 11658 or 74% of the dataset\n",
      "\n",
      "DIRECTOR --------------------------------------------\n",
      "Woody Allen                         42\n",
      "Clint Eastwood                      36\n",
      "Steven Spielberg                    30\n",
      "John Ford                           28\n",
      "Roger Corman                        26\n",
      "                                    ..\n",
      "Durmus Akbulut                       1\n",
      "Kevin Kölsch, Dennis Widmyer         1\n",
      "Josef Fares                          1\n",
      "Tristan Patterson                    1\n",
      "Norman Z. McLeod, Busby Berkeley     1\n",
      "Name: director, Length: 7955, dtype: int64\n",
      "\n",
      "num of categories with 1 movie: 5386\n",
      "\n",
      "num of categories with over 100 movies: 0 which accounts for 0\n",
      "\n",
      "num of categories with > 100 movie: 0\n",
      "accounts for 0 or 0% of the dataset\n",
      "\n",
      "WRITER --------------------------------------------\n",
      "Woody Allen                           34\n",
      "John Hughes                           15\n",
      "Joel Coen, Ethan Coen                 12\n",
      "M. Night Shyamalan                    11\n",
      "Larry Cohen                           11\n",
      "                                      ..\n",
      "Kevin Palys                            1\n",
      "Oren Moverman, Michael A. Lerner       1\n",
      "Mark L. Lester, C. Courtney Joyner     1\n",
      "Carlton Cuse, Andre Fabrizio           1\n",
      "Dudley Nichols, Hagar Wilde            1\n",
      "Name: writer, Length: 13677, dtype: int64\n",
      "\n",
      "num of categories with 1 movie: 12467\n",
      "\n",
      "num of categories with over 100 movies: 0 which accounts for 0\n",
      "\n",
      "num of categories with > 100 movie: 0\n",
      "accounts for 0 or 0% of the dataset\n",
      "\n",
      "PRODUCTION_COMPANY --------------------------------------------\n",
      "Metro-Goldwyn-Mayer (MGM)    604\n",
      "Warner Bros.                 477\n",
      "Universal Pictures           407\n",
      "Twentieth Century Fox        398\n",
      "Columbia Pictures            391\n",
      "                            ... \n",
      "La Brea Pictures               1\n",
      "Salem-Dover Productions        1\n",
      "Cinamour Entertainment         1\n",
      "Seraphim Films Inc.            1\n",
      "Clipsal Films                  1\n",
      "Name: production_company, Length: 7081, dtype: int64\n",
      "\n",
      "num of categories with 1 movie: 5407\n",
      "\n",
      "num of categories with over 100 movies: 9 which accounts for 3046\n",
      "\n",
      "num of categories with > 100 movie: 9\n",
      "accounts for 3046 or 19% of the dataset\n",
      "\n",
      "TOP_ACTOR --------------------------------------------\n",
      "Nicolas Cage       53\n",
      "John Wayne         47\n",
      "Robert De Niro     45\n",
      "Tom Hanks          39\n",
      "Clint Eastwood     39\n",
      "                   ..\n",
      "Toren Atkinson      1\n",
      "Gedeon Burkhard     1\n",
      "Nichole Hiltz       1\n",
      "Laurie Calvert      1\n",
      "Eli Roth            1\n",
      "Name: top_actor, Length: 6038, dtype: int64\n",
      "\n",
      "num of categories with 1 movie: 3569\n",
      "\n",
      "num of categories with over 100 movies: 0 which accounts for 0\n",
      "\n",
      "num of categories with > 100 movie: 0\n",
      "accounts for 0 or 0% of the dataset\n"
     ]
    },
    {
     "data": {
      "text/plain": [
       "<matplotlib.legend.Legend at 0x14026d1c0>"
      ]
     },
     "execution_count": 28,
     "metadata": {},
     "output_type": "execute_result"
    },
    {
     "data": {
      "image/png": "[encoded data removed]",
      "text/plain": [
       "<Figure size 864x576 with 7 Axes>"
      ]
     },
     "metadata": {},
     "output_type": "display_data"
    }
   ],
   "source": [
    "rows = df.shape[0]\n",
    "labels = [\"1\", \"between 1 and 10\", \"between 10 and 100\", \"over 100\"]\n",
    "\n",
    "fig, axs = plt.subplots(2, 4)\n",
    "fig.set_size_inches(12, 8)\n",
    "plt.suptitle(\"Distrubution of categorical features\")\n",
    "\n",
    "axs = axs.flatten()\n",
    "\n",
    "for i, col in enumerate(to_encode):\n",
    "    data = []\n",
    "    \n",
    "    print(f\"\\n{col.upper()} --------------------------------------------\")\n",
    "    vc = df[col].value_counts()\n",
    "    print(vc)\n",
    "\n",
    "    filtered = vc.where(vc == 1).dropna()\n",
    "    data.append((filtered.sum() / rows) * 100)\n",
    "\n",
    "    print(f\"\\nnum of categories with 1 movie: {filtered.shape[0]}\")\n",
    "\n",
    "    filtered = vc.where((vc > 1) & (vc <= 10)).dropna()\n",
    "    data.append((filtered.sum() / rows) * 100)\n",
    "\n",
    "    filtered = vc.where((vc > 10) & (vc <= 100)).dropna()\n",
    "    data.append((filtered.sum() / rows) * 100)\n",
    "\n",
    "    filtered = vc.where(vc > 100).dropna()\n",
    "    \n",
    "    data.append((filtered.sum() / rows) * 100)\n",
    "\n",
    "    print(\n",
    "        f\"\\nnum of categories with over 100 movies: {filtered.shape[0]} which accounts for {filtered.sum():.0f}\"\n",
    "    )\n",
    "\n",
    "    axs[i].axis(\"equal\")\n",
    "\n",
    "    patches = axs[i].pie(data, autopct=\"%.0f%%\", radius=1.3)[0]\n",
    "    axs[i].set(ylabel='', title=col, aspect='equal')\n",
    "\n",
    "    print(f\"\\nnum of categories with > 100 movie: {filtered.shape[0]}\")\n",
    "    print(\n",
    "        f\"accounts for {filtered.sum():.0f} or {(filtered.sum()/rows)*100:.0f}% of the dataset\"\n",
    "    )\n",
    "\n",
    "axs[7].remove()\n",
    "fig.legend(patches, labels, loc=\"center left\")"
   ]
  },
  {
   "cell_type": "code",
   "execution_count": 29,
   "metadata": {},
   "outputs": [
    {
     "data": {
      "text/plain": [
       "imdb_title_id              object\n",
       "title                      object\n",
       "year                        Int64\n",
       "genre                      object\n",
       "duration                  float64\n",
       "country                    object\n",
       "language                   object\n",
       "director                   object\n",
       "writer                     object\n",
       "production_company         object\n",
       "budget                    float64\n",
       "top_actor                  object\n",
       "top_actor_gender           object\n",
       "weighted_average_vote     float64\n",
       "height                    float64\n",
       "divorces                  float64\n",
       "actor_age_at_release     category\n",
       "dtype: object"
      ]
     },
     "execution_count": 29,
     "metadata": {},
     "output_type": "execute_result"
    }
   ],
   "source": [
    "df.dtypes"
   ]
  },
  {
   "cell_type": "markdown",
   "metadata": {},
   "source": [
    "## Encoding Categorical Columns"
   ]
  },
  {
   "cell_type": "code",
   "execution_count": 30,
   "metadata": {},
   "outputs": [],
   "source": [
    "df = dfMovies_Names"
   ]
  },
  {
   "cell_type": "code",
   "execution_count": 31,
   "metadata": {},
   "outputs": [
    {
     "name": "stdout",
     "output_type": "stream",
     "text": [
      "encoding genre...\n",
      "(15688, 117)\n",
      "encoding country...\n",
      "(15688, 217)\n",
      "encoding language...\n",
      "(15688, 317)\n",
      "encoding director...\n",
      "(15688, 316)\n",
      "encoding writer...\n",
      "(15688, 315)\n",
      "encoding production_company...\n",
      "(15688, 314)\n",
      "encoding top_actor...\n",
      "(15688, 313)\n"
     ]
    }
   ],
   "source": [
    "for col in to_encode:\n",
    "    print(f\"encoding {col}...\")\n",
    "    \n",
    "    vc = df[col].value_counts()\n",
    "    filtered = vc.where(vc > 100).dropna().sum()\n",
    "    \n",
    "    if (filtered / rows) > 0.5:\n",
    "        df = df.join(encode_top_n(df, col, 100))\n",
    "        \n",
    "    df = df.drop(columns=[col])\n",
    "    \n",
    "    print(df.dropna().shape)"
   ]
  },
  {
   "cell_type": "markdown",
   "metadata": {},
   "source": [
    "# To Do:\n",
    "- Z-score scale the continuous values"
   ]
  },
  {
   "cell_type": "markdown",
   "metadata": {},
   "source": [
    "## Encoding `year`"
   ]
  },
  {
   "cell_type": "code",
   "execution_count": 32,
   "metadata": {},
   "outputs": [],
   "source": [
    "to_encode_normal = [\n",
    "    \"year\",\n",
    "    \"actor_age_at_release\",\n",
    "    \"top_actor_gender\"\n",
    "]"
   ]
  },
  {
   "cell_type": "code",
   "execution_count": 33,
   "metadata": {},
   "outputs": [
    {
     "name": "stdout",
     "output_type": "stream",
     "text": [
      "(15688, 420)\n",
      "(15688, 423)\n",
      "(15688, 424)\n"
     ]
    }
   ],
   "source": [
    "for col in to_encode_normal:\n",
    "    df = df.join(encode_normal(df, col))\n",
    "    df = df.drop(columns=[col])\n",
    "    print(df.dropna().shape)"
   ]
  },
  {
   "cell_type": "markdown",
   "metadata": {},
   "source": [
    "## Output to CSV"
   ]
  },
  {
   "cell_type": "code",
   "execution_count": 34,
   "metadata": {},
   "outputs": [
    {
     "data": {
      "text/plain": [
       "(15688, 424)"
      ]
     },
     "execution_count": 34,
     "metadata": {},
     "output_type": "execute_result"
    }
   ],
   "source": [
    "df.shape"
   ]
  },
  {
   "cell_type": "code",
   "execution_count": 35,
   "metadata": {},
   "outputs": [],
   "source": [
    "df.to_csv(\"content/combined_data_all_encoded_500.csv\", index=False)"
   ]
  },
  {
   "cell_type": "code",
   "execution_count": null,
   "metadata": {},
   "outputs": [],
   "source": []
  }
 ],
 "metadata": {
  "colab": {
   "name": "EDA1.ipynb",
   "provenance": []
  },
  "interpreter": {
   "hash": "63fd5069d213b44bf678585dea6b12cceca9941eaf7f819626cde1f2670de90d"
  },
  "kernelspec": {
   "display_name": "Python 3",
   "language": "python",
   "name": "python3"
  },
  "language_info": {
   "codemirror_mode": {
    "name": "ipython",
    "version": 3
   },
   "file_extension": ".py",
   "mimetype": "text/x-python",
   "name": "python",
   "nbconvert_exporter": "python",
   "pygments_lexer": "ipython3",
   "version": "3.9.5"
  }
 },
 "nbformat": 4,
 "nbformat_minor": 2
}
