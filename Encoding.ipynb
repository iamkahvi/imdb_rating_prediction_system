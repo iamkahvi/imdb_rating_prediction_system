{
 "cells": [
  {
   "cell_type": "code",
   "execution_count": 1,
   "metadata": {
    "id": "--ZYqfLiH4uo"
   },
   "outputs": [],
   "source": [
    "import pandas as pd\n",
    "import numpy as np\n",
    "import matplotlib.pyplot as plt\n",
    "from datetime import datetime\n",
    "from datetime import date"
   ]
  },
  {
   "cell_type": "markdown",
   "metadata": {},
   "source": [
    "## Importing CSVs"
   ]
  },
  {
   "cell_type": "code",
   "execution_count": 2,
   "metadata": {},
   "outputs": [],
   "source": [
    "dfMovies = pd.read_csv(\n",
    "    \"content/IMDb movies w top_actor, top_actor_gender.csv\",\n",
    "    dtype={\"year\": str, \"budget\": str},\n",
    "    sep=\"\\t\",\n",
    ")\n",
    "dfNames = pd.read_csv(\"content/IMDb names.csv\")\n",
    "dfRatings = pd.read_csv(\"content/IMDb ratings.csv\")\n",
    "dfTitlePrincipals = pd.read_csv(\"content/IMDb title_principals.csv\")"
   ]
  },
  {
   "cell_type": "code",
   "execution_count": 3,
   "metadata": {},
   "outputs": [
    {
     "data": {
      "text/plain": [
       "(85220, 24)"
      ]
     },
     "execution_count": 3,
     "metadata": {},
     "output_type": "execute_result"
    }
   ],
   "source": [
    "dfMovies.shape"
   ]
  },
  {
   "cell_type": "code",
   "execution_count": 4,
   "metadata": {
    "id": "mUuTksQcH4up"
   },
   "outputs": [
    {
     "data": {
      "text/plain": [
       "(85220, 15)"
      ]
     },
     "execution_count": 4,
     "metadata": {},
     "output_type": "execute_result"
    }
   ],
   "source": [
    "# Pick the columns from each of the datasets that should be used to train the ML algorithms\n",
    "dfMovies = dfMovies[\n",
    "    [\n",
    "        \"imdb_title_id\",\n",
    "        \"title\",\n",
    "        \"year\",\n",
    "        \"genre\",\n",
    "        \"duration\",\n",
    "        \"country\",\n",
    "        \"language\",\n",
    "        \"director\",\n",
    "        \"writer\",\n",
    "        \"production_company\",\n",
    "        \"budget\",\n",
    "        \"top_actor\",\n",
    "        \"top_actor_gender\",\n",
    "        \"date_published\"\n",
    "    ]\n",
    "]\n",
    "\n",
    "dfRatings = dfRatings[\n",
    "    [\"imdb_title_id\", \"weighted_average_vote\"]\n",
    "]  # come back to this and include age groups/male/female votes\n",
    "dfTitlePrincipals = dfTitlePrincipals[\n",
    "    [\"imdb_title_id\", \"ordering\", \"imdb_name_id\"]\n",
    "]  # should we get category? \"actress\"/\"actor\" (dont know if its necessary)\n",
    "\n",
    "dfMovies = pd.merge(dfMovies, dfRatings, on=[\"imdb_title_id\"])\n",
    "\n",
    "dfMovies.shape"
   ]
  },
  {
   "cell_type": "markdown",
   "metadata": {},
   "source": [
    "## Adding `actor_age` and `actor_age_at_release` to dfMovies"
   ]
  },
  {
   "cell_type": "code",
   "execution_count": 5,
   "metadata": {},
   "outputs": [],
   "source": [
    "dfNames = dfNames.drop_duplicates(\"name\")\n",
    "\n",
    "dfMovies_Names = pd.merge(\n",
    "    dfMovies,\n",
    "    dfNames[\n",
    "        [\n",
    "            \"name\",\n",
    "            \"height\",\n",
    "            \"children\",\n",
    "            \"divorces\",\n",
    "            \"spouses\",\n",
    "            \"date_of_birth\",\n",
    "            \"date_of_death\",\n",
    "        ]\n",
    "    ],\n",
    "    left_on=[\"top_actor\"],\n",
    "    right_on=[\"name\"]\n",
    ").drop(columns=[\"name\"])"
   ]
  },
  {
   "cell_type": "code",
   "execution_count": 6,
   "metadata": {},
   "outputs": [
    {
     "data": {
      "text/plain": [
       "(85220, 21)"
      ]
     },
     "execution_count": 6,
     "metadata": {},
     "output_type": "execute_result"
    }
   ],
   "source": [
    "dfMovies_Names.shape"
   ]
  },
  {
   "cell_type": "markdown",
   "metadata": {},
   "source": [
    "Merging the dfNames and dfMovies datasets. The result gives 22,623 rows."
   ]
  },
  {
   "cell_type": "code",
   "execution_count": 7,
   "metadata": {},
   "outputs": [],
   "source": [
    "def calc_age(row):\n",
    "    try:\n",
    "        born = datetime.strptime(row[\"date_of_birth\"], \"%Y-%m-%d\").date()\n",
    "        today = date.today()\n",
    "        \n",
    "        if pd.isnull(row[\"date_of_death\"]):\n",
    "            return today.year - born.year\n",
    "        else:\n",
    "            dead = datetime.strptime(row[\"date_of_death\"], \"%Y-%m-%d\").date()\n",
    "            return dead.year - born.year\n",
    "    except:\n",
    "        return None"
   ]
  },
  {
   "cell_type": "code",
   "execution_count": 8,
   "metadata": {},
   "outputs": [],
   "source": [
    "def calc_age_at_release(row):\n",
    "    try:\n",
    "        born = datetime.strptime(row[\"date_of_birth\"], \"%Y-%m-%d\").date()\n",
    "        released = datetime.strptime(row[\"date_published\"], \"%Y-%m-%d\").date()\n",
    "        \n",
    "        return released.year - born.year\n",
    "    except:\n",
    "        return None"
   ]
  },
  {
   "cell_type": "markdown",
   "metadata": {},
   "source": [
    "Two functions to calculate the top actors age and the top actor age when the movie is released."
   ]
  },
  {
   "cell_type": "code",
   "execution_count": 9,
   "metadata": {},
   "outputs": [],
   "source": [
    "dfMovies_Names[\"actor_age_at_release\"] = dfMovies_Names.apply(calc_age_at_release, axis=1)"
   ]
  },
  {
   "cell_type": "code",
   "execution_count": 10,
   "metadata": {},
   "outputs": [],
   "source": [
    "dfMovies_Names[\"actor_age\"] = dfMovies_Names.apply(calc_age, axis=1)"
   ]
  },
  {
   "cell_type": "code",
   "execution_count": 11,
   "metadata": {},
   "outputs": [],
   "source": [
    "dfMovies_Names = dfMovies_Names.drop(columns=[\"date_of_birth\", \"date_of_death\", \"date_published\"])"
   ]
  },
  {
   "cell_type": "markdown",
   "metadata": {},
   "source": [
    "Dropping the features used to calculate the new features."
   ]
  },
  {
   "cell_type": "markdown",
   "metadata": {},
   "source": [
    "## Casting `year` and `budget` features"
   ]
  },
  {
   "cell_type": "code",
   "execution_count": 12,
   "metadata": {
    "id": "wcbW5AecS8SD"
   },
   "outputs": [],
   "source": [
    "dfMovies_Names[\"year\"] = dfMovies_Names[\"year\"].astype(str).str.extract(\"(\\d+)\")\n",
    "dfMovies_Names[\"budget\"] = dfMovies_Names[\"budget\"].astype(str).str.extract(\"(\\d+)\")\n",
    "\n",
    "dfMovies_Names.year = pd.to_numeric(dfMovies_Names.year, errors=\"coerce\").astype(\"Int64\")\n",
    "dfMovies_Names.budget = pd.to_numeric(dfMovies_Names.budget, errors=\"coerce\").astype(\"Int64\")"
   ]
  },
  {
   "cell_type": "code",
   "execution_count": 13,
   "metadata": {},
   "outputs": [
    {
     "data": {
      "text/plain": [
       "imdb_title_id             object\n",
       "title                     object\n",
       "year                       Int64\n",
       "genre                     object\n",
       "duration                   int64\n",
       "country                   object\n",
       "language                  object\n",
       "director                  object\n",
       "writer                    object\n",
       "production_company        object\n",
       "budget                     Int64\n",
       "top_actor                 object\n",
       "top_actor_gender          object\n",
       "weighted_average_vote    float64\n",
       "height                   float64\n",
       "children                   int64\n",
       "divorces                   int64\n",
       "spouses                    int64\n",
       "actor_age_at_release     float64\n",
       "actor_age                float64\n",
       "dtype: object"
      ]
     },
     "execution_count": 13,
     "metadata": {},
     "output_type": "execute_result"
    }
   ],
   "source": [
    "dfMovies_Names.dtypes"
   ]
  },
  {
   "cell_type": "markdown",
   "metadata": {},
   "source": [
    "## Removing nulls and renaming"
   ]
  },
  {
   "cell_type": "code",
   "execution_count": 14,
   "metadata": {},
   "outputs": [],
   "source": [
    "dfMovies_Names = dfMovies_Names.dropna()\n",
    "df = dfMovies_Names"
   ]
  },
  {
   "cell_type": "markdown",
   "metadata": {},
   "source": [
    "Dropping any rows with `NaN`."
   ]
  },
  {
   "cell_type": "markdown",
   "metadata": {},
   "source": [
    "## Encoding Functions"
   ]
  },
  {
   "cell_type": "code",
   "execution_count": 15,
   "metadata": {},
   "outputs": [],
   "source": [
    "def encode_normal(df, col):\n",
    "    return pd.get_dummies(df[col])"
   ]
  },
  {
   "cell_type": "code",
   "execution_count": 16,
   "metadata": {},
   "outputs": [],
   "source": [
    "def other_col(row):\n",
    "    if row.sum() == 0:\n",
    "        return 1\n",
    "    return 0"
   ]
  },
  {
   "cell_type": "code",
   "execution_count": 17,
   "metadata": {},
   "outputs": [],
   "source": [
    "def encode_top_n(df, col, top):\n",
    "    genre_encoded_df = pd.DataFrame()\n",
    "    \n",
    "    top_cat = pd.Index([f\"{col}_{x}\" for x in df[col].value_counts().index])[:top]\n",
    "    genre_encoded_df = pd.get_dummies(df[col], prefix=col)[top_cat]\n",
    "\n",
    "    genre_encoded_df[\"other_\" + col] = genre_encoded_df.apply(other_col, axis=1)\n",
    "\n",
    "    return genre_encoded_df"
   ]
  },
  {
   "cell_type": "markdown",
   "metadata": {},
   "source": [
    "`encode_normal` returns the encoded column in a DataFrame.\n",
    "\n",
    "`encode_top_n` return the top `n` most frequent values encoded in a DataFrame with an `other_` column for all the other values."
   ]
  },
  {
   "cell_type": "markdown",
   "metadata": {},
   "source": [
    "## Analyzing Categorical Features"
   ]
  },
  {
   "cell_type": "markdown",
   "metadata": {},
   "source": [
    "### `genre`"
   ]
  },
  {
   "cell_type": "code",
   "execution_count": 18,
   "metadata": {},
   "outputs": [
    {
     "data": {
      "text/plain": [
       "Drama                         1148\n",
       "Comedy                         812\n",
       "Comedy, Drama                  590\n",
       "Drama, Romance                 547\n",
       "Comedy, Drama, Romance         545\n",
       "                              ... \n",
       "Family, Fantasy, Music           1\n",
       "Romance, Sport                   1\n",
       "Action, Biography, History       1\n",
       "Comedy, War, Drama               1\n",
       "Action, Drama, Musical           1\n",
       "Name: genre, Length: 666, dtype: int64"
      ]
     },
     "execution_count": 18,
     "metadata": {},
     "output_type": "execute_result"
    }
   ],
   "source": [
    "df[\"genre\"].value_counts()"
   ]
  },
  {
   "cell_type": "markdown",
   "metadata": {},
   "source": [
    "It looks like there are a significant number of movies that classify as the same genre."
   ]
  },
  {
   "cell_type": "code",
   "execution_count": 19,
   "metadata": {},
   "outputs": [
    {
     "name": "stdout",
     "output_type": "stream",
     "text": [
      "(223,)\n",
      "(30,)\n",
      "8585.0\n",
      "55%\n"
     ]
    }
   ],
   "source": [
    "genre_1_freq = (\n",
    "    df[\"genre\"].value_counts().where(df[\"genre\"].value_counts() == 1).dropna()\n",
    ")\n",
    "\n",
    "print(genre_1_freq.shape)\n",
    "\n",
    "genre_over_100_freq = (\n",
    "    df[\"genre\"].value_counts().where(df[\"genre\"].value_counts() > 100).dropna()\n",
    ")\n",
    "\n",
    "print(genre_over_100_freq.shape)\n",
    "print(genre_over_100_freq.sum())\n",
    "print(f\"{(genre_over_100_freq.sum()) / (df.shape[0])*100:.0f}%\")"
   ]
  },
  {
   "cell_type": "markdown",
   "metadata": {},
   "source": [
    "Specifically, there are 227 genres that only classify *one movie*. However there are 33 genres that classify over 100 movies. In total, those 33 genres account for 9,619 movies, which is over 50% of the movies in our dataset.\n",
    "\n",
    "Therefore, it's probably safe to just OneHotEncode the existing values in `genres`.\n",
    "\n",
    "Similar analysis of the following features are below."
   ]
  },
  {
   "cell_type": "markdown",
   "metadata": {},
   "source": [
    "### Other categorical features"
   ]
  },
  {
   "cell_type": "code",
   "execution_count": 20,
   "metadata": {},
   "outputs": [],
   "source": [
    "to_encode = [\n",
    "    \"genre\",\n",
    "    \"country\",\n",
    "    \"language\",\n",
    "    \"director\",\n",
    "    \"writer\",\n",
    "    \"production_company\",\n",
    "    \"top_actor\"\n",
    "]"
   ]
  },
  {
   "cell_type": "code",
   "execution_count": 21,
   "metadata": {
    "scrolled": true
   },
   "outputs": [
    {
     "name": "stdout",
     "output_type": "stream",
     "text": [
      "\n",
      "GENRE --------------------------------------------\n",
      "Drama                         1148\n",
      "Comedy                         812\n",
      "Comedy, Drama                  590\n",
      "Drama, Romance                 547\n",
      "Comedy, Drama, Romance         545\n",
      "                              ... \n",
      "Family, Fantasy, Music           1\n",
      "Romance, Sport                   1\n",
      "Action, Biography, History       1\n",
      "Comedy, War, Drama               1\n",
      "Action, Drama, Musical           1\n",
      "Name: genre, Length: 666, dtype: int64\n",
      "\n",
      "num of categories with 1 movie: 223\n",
      "\n",
      "num of categories with over 100 movies: 30 which accounts for 8585\n"
     ]
    },
    {
     "data": {
      "image/png": "[encoded data removed]",
      "text/plain": [
       "<Figure size 432x288 with 1 Axes>"
      ]
     },
     "metadata": {},
     "output_type": "display_data"
    },
    {
     "name": "stdout",
     "output_type": "stream",
     "text": [
      "\n",
      "num of categories with > 100 movie: 30\n",
      "accounts for 8585 or 55% of the dataset\n",
      "\n",
      "COUNTRY --------------------------------------------\n",
      "USA                               7904\n",
      "UK                                 612\n",
      "India                              470\n",
      "Canada                             347\n",
      "UK, USA                            303\n",
      "                                  ... \n",
      "USA, Spain, France, Canada, UK       1\n",
      "Sweden, Sri Lanka                    1\n",
      "USA, Israel, Austria, Spain          1\n",
      "United Arab Emirates                 1\n",
      "USA, UK, Romania                     1\n",
      "Name: country, Length: 1610, dtype: int64\n",
      "\n",
      "num of categories with 1 movie: 1212\n",
      "\n",
      "num of categories with over 100 movies: 17 which accounts for 11478\n"
     ]
    },
    {
     "data": {
      "image/png": "[encoded data removed]",
      "text/plain": [
       "<Figure size 432x288 with 1 Axes>"
      ]
     },
     "metadata": {},
     "output_type": "display_data"
    },
    {
     "name": "stdout",
     "output_type": "stream",
     "text": [
      "\n",
      "num of categories with > 100 movie: 17\n",
      "accounts for 11478 or 73% of the dataset\n",
      "\n",
      "LANGUAGE --------------------------------------------\n",
      "English                                                        9108\n",
      "English, Spanish                                                553\n",
      "English, French                                                 350\n",
      "French                                                          310\n",
      "Spanish                                                         193\n",
      "                                                               ... \n",
      "Cantonese, English, Vietnamese, French                            1\n",
      "Mandarin, Japanese, English, Shanghainese, Hindi, Cantonese       1\n",
      "English, German, Spanish, Latin                                   1\n",
      "Spanish, Korean, Russian                                          1\n",
      "English, Hungarian, Spanish                                       1\n",
      "Name: language, Length: 1531, dtype: int64\n",
      "\n",
      "num of categories with 1 movie: 1155\n",
      "\n",
      "num of categories with over 100 movies: 13 which accounts for 11660\n"
     ]
    },
    {
     "data": {
      "image/png": "[encoded data removed]",
      "text/plain": [
       "<Figure size 432x288 with 1 Axes>"
      ]
     },
     "metadata": {},
     "output_type": "display_data"
    },
    {
     "name": "stdout",
     "output_type": "stream",
     "text": [
      "\n",
      "num of categories with > 100 movie: 13\n",
      "accounts for 11660 or 74% of the dataset\n",
      "\n",
      "DIRECTOR --------------------------------------------\n",
      "Woody Allen         42\n",
      "Clint Eastwood      36\n",
      "Steven Spielberg    30\n",
      "John Ford           28\n",
      "Alfred Hitchcock    26\n",
      "                    ..\n",
      "Lara Shapiro         1\n",
      "Kari Paljakka        1\n",
      "Jean-Marc Minéo      1\n",
      "Simon Kaijser        1\n",
      "John Miller          1\n",
      "Name: director, Length: 7957, dtype: int64\n",
      "\n",
      "num of categories with 1 movie: 5388\n",
      "\n",
      "num of categories with over 100 movies: 0 which accounts for 0\n"
     ]
    },
    {
     "data": {
      "image/png": "[encoded data removed]",
      "text/plain": [
       "<Figure size 432x288 with 1 Axes>"
      ]
     },
     "metadata": {},
     "output_type": "display_data"
    },
    {
     "name": "stdout",
     "output_type": "stream",
     "text": [
      "\n",
      "num of categories with > 100 movie: 0\n",
      "accounts for 0 or 0% of the dataset\n",
      "\n",
      "WRITER --------------------------------------------\n",
      "Woody Allen                              34\n",
      "John Hughes                              15\n",
      "Joel Coen, Ethan Coen                    12\n",
      "M. Night Shyamalan                       11\n",
      "Larry Cohen                              11\n",
      "                                         ..\n",
      "Roger S. Baum, Randi Barnes               1\n",
      "Daniel Frisch                             1\n",
      "James Robert Johnston, Bennett Yellin     1\n",
      "John Dahl, David W. Warfield              1\n",
      "Claudio Caligari, Claudio Caligari        1\n",
      "Name: writer, Length: 13678, dtype: int64\n",
      "\n",
      "num of categories with 1 movie: 12467\n",
      "\n",
      "num of categories with over 100 movies: 0 which accounts for 0\n"
     ]
    },
    {
     "data": {
      "image/png": "[encoded data removed]",
      "text/plain": [
       "<Figure size 432x288 with 1 Axes>"
      ]
     },
     "metadata": {},
     "output_type": "display_data"
    },
    {
     "name": "stdout",
     "output_type": "stream",
     "text": [
      "\n",
      "num of categories with > 100 movie: 0\n",
      "accounts for 0 or 0% of the dataset\n",
      "\n",
      "PRODUCTION_COMPANY --------------------------------------------\n",
      "Metro-Goldwyn-Mayer (MGM)                             604\n",
      "Warner Bros.                                          477\n",
      "Universal Pictures                                    407\n",
      "Twentieth Century Fox                                 398\n",
      "Columbia Pictures                                     391\n",
      "                                                     ... \n",
      "One Film                                                1\n",
      "Neptune Productions                                     1\n",
      "Creativos Asociados de Radio y Televisión (CARTEL)      1\n",
      "Even Keel Productions LLC                               1\n",
      "CoBo Fonds                                              1\n",
      "Name: production_company, Length: 7082, dtype: int64\n",
      "\n",
      "num of categories with 1 movie: 5408\n",
      "\n",
      "num of categories with over 100 movies: 9 which accounts for 3046\n"
     ]
    },
    {
     "data": {
      "image/png": "[encoded data removed]",
      "text/plain": [
       "<Figure size 432x288 with 1 Axes>"
      ]
     },
     "metadata": {},
     "output_type": "display_data"
    },
    {
     "name": "stdout",
     "output_type": "stream",
     "text": [
      "\n",
      "num of categories with > 100 movie: 9\n",
      "accounts for 3046 or 19% of the dataset\n",
      "\n",
      "TOP_ACTOR --------------------------------------------\n",
      "Nicolas Cage       53\n",
      "John Wayne         47\n",
      "Robert De Niro     45\n",
      "Tom Hanks          39\n",
      "Clint Eastwood     39\n",
      "                   ..\n",
      "Diane Neal          1\n",
      "Matti Pellonpää     1\n",
      "Irina Björklund     1\n",
      "Joana de Verona     1\n",
      "Anne Marivin        1\n",
      "Name: top_actor, Length: 6040, dtype: int64\n",
      "\n",
      "num of categories with 1 movie: 3571\n",
      "\n",
      "num of categories with over 100 movies: 0 which accounts for 0\n"
     ]
    },
    {
     "data": {
      "image/png": "[encoded data removed]",
      "text/plain": [
       "<Figure size 432x288 with 1 Axes>"
      ]
     },
     "metadata": {},
     "output_type": "display_data"
    },
    {
     "name": "stdout",
     "output_type": "stream",
     "text": [
      "\n",
      "num of categories with > 100 movie: 0\n",
      "accounts for 0 or 0% of the dataset\n"
     ]
    }
   ],
   "source": [
    "rows = df.shape[0]\n",
    "\n",
    "labels = [\"1\", \"between 1 and 10\", \"between 10 and 100\", \"over 100\"]\n",
    "\n",
    "for col in to_encode:\n",
    "    data = []\n",
    "    \n",
    "    print(f\"\\n{col.upper()} --------------------------------------------\")\n",
    "    vc = df[col].value_counts()\n",
    "    print(vc)\n",
    "\n",
    "    filtered = vc.where(vc == 1).dropna()\n",
    "    data.append((filtered.sum() / rows) * 100)\n",
    "\n",
    "    print(f\"\\nnum of categories with 1 movie: {filtered.shape[0]}\")\n",
    "\n",
    "    filtered = vc.where((vc > 1) & (vc <= 10)).dropna()\n",
    "    data.append((filtered.sum() / rows) * 100)\n",
    "\n",
    "    filtered = vc.where((vc > 10) & (vc <= 100)).dropna()\n",
    "    data.append((filtered.sum() / rows) * 100)\n",
    "\n",
    "    filtered = vc.where(vc > 100).dropna()\n",
    "    \n",
    "    data.append((filtered.sum() / rows) * 100)\n",
    "\n",
    "    print(\n",
    "        f\"\\nnum of categories with over 100 movies: {filtered.shape[0]} which accounts for {filtered.sum():.0f}\"\n",
    "    )\n",
    "\n",
    "    fig = plt.figure()\n",
    "    ax = fig.add_axes([0, 0, 1, 1])\n",
    "    ax.axis(\"equal\")\n",
    "\n",
    "    ax.pie(data, labels=labels, autopct=\"%.0f%%\")\n",
    "    plt.title(col)\n",
    "    plt.legend()\n",
    "    plt.show()\n",
    "\n",
    "    print(f\"\\nnum of categories with > 100 movie: {filtered.shape[0]}\")\n",
    "    print(\n",
    "        f\"accounts for {filtered.sum():.0f} or {(filtered.sum()/rows)*100:.0f}% of the dataset\"\n",
    "    )"
   ]
  },
  {
   "cell_type": "markdown",
   "metadata": {},
   "source": [
    "## Encoding Categorical Columns"
   ]
  },
  {
   "cell_type": "code",
   "execution_count": 22,
   "metadata": {},
   "outputs": [
    {
     "name": "stdout",
     "output_type": "stream",
     "text": [
      "encoding genre...\n",
      "(15690, 30)\n",
      "encoding country...\n",
      "(15690, 40)\n",
      "encoding language...\n",
      "(15690, 50)\n",
      "encoding director...\n",
      "(15690, 60)\n",
      "encoding writer...\n",
      "(15690, 70)\n",
      "encoding production_company...\n",
      "(15690, 80)\n",
      "encoding top_actor...\n",
      "(15690, 90)\n"
     ]
    }
   ],
   "source": [
    "for col in to_encode:\n",
    "    print(f\"encoding {col}...\")\n",
    "    \n",
    "    df = df.join(encode_top_n(df, col, 10))\n",
    "    df = df.drop(columns=[col])\n",
    "    \n",
    "    print(df.dropna().shape)"
   ]
  },
  {
   "cell_type": "markdown",
   "metadata": {},
   "source": [
    "# To Do:\n",
    "- Z-score scale the continuous values"
   ]
  },
  {
   "cell_type": "markdown",
   "metadata": {},
   "source": [
    "## Encoding `year`"
   ]
  },
  {
   "cell_type": "code",
   "execution_count": 23,
   "metadata": {},
   "outputs": [],
   "source": [
    "df = df.join(encode_normal(df, \"year\"))\n",
    "df = df.drop(columns=[\"year\"])"
   ]
  },
  {
   "cell_type": "markdown",
   "metadata": {},
   "source": [
    "## Encoding `top_actor_gender`"
   ]
  },
  {
   "cell_type": "code",
   "execution_count": 24,
   "metadata": {},
   "outputs": [],
   "source": [
    "df = df.join(encode_normal(df, \"top_actor_gender\"))\n",
    "df = df.drop(columns=[\"top_actor_gender\"])"
   ]
  },
  {
   "cell_type": "code",
   "execution_count": 25,
   "metadata": {},
   "outputs": [
    {
     "data": {
      "text/plain": [
       "(15690, 198)"
      ]
     },
     "execution_count": 25,
     "metadata": {},
     "output_type": "execute_result"
    }
   ],
   "source": [
    "df.shape"
   ]
  },
  {
   "cell_type": "code",
   "execution_count": 26,
   "metadata": {},
   "outputs": [
    {
     "data": {
      "text/plain": [
       "Index(['imdb_title_id', 'title', 'duration', 'budget', 'weighted_average_vote',\n",
       "       'height', 'children', 'divorces', 'spouses', 'actor_age_at_release',\n",
       "       'actor_age', 'genre_Drama', 'genre_Comedy', 'genre_Comedy, Drama',\n",
       "       'genre_Drama, Romance'],\n",
       "      dtype='object')"
      ]
     },
     "execution_count": 26,
     "metadata": {},
     "output_type": "execute_result"
    }
   ],
   "source": [
    "df.columns[:15]"
   ]
  },
  {
   "cell_type": "code",
   "execution_count": 27,
   "metadata": {},
   "outputs": [],
   "source": [
    "df.to_csv(\"content/combined_data_10.csv\", index=False)"
   ]
  },
  {
   "cell_type": "code",
   "execution_count": null,
   "metadata": {},
   "outputs": [],
   "source": []
  }
 ],
 "metadata": {
  "colab": {
   "name": "EDA1.ipynb",
   "provenance": []
  },
  "interpreter": {
   "hash": "63fd5069d213b44bf678585dea6b12cceca9941eaf7f819626cde1f2670de90d"
  },
  "kernelspec": {
   "display_name": "Python 3",
   "language": "python",
   "name": "python3"
  },
  "language_info": {
   "codemirror_mode": {
    "name": "ipython",
    "version": 3
   },
   "file_extension": ".py",
   "mimetype": "text/x-python",
   "name": "python",
   "nbconvert_exporter": "python",
   "pygments_lexer": "ipython3",
   "version": "3.9.5"
  }
 },
 "nbformat": 4,
 "nbformat_minor": 2
}
