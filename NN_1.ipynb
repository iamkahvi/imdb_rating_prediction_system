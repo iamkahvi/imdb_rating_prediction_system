{
 "cells": [
  {
   "cell_type": "code",
   "execution_count": 97,
   "id": "540108f0",
   "metadata": {},
   "outputs": [],
   "source": [
    "from keras.models import Sequential\n",
    "from keras.layers import Dense, Activation, Dropout, Input\n",
    "from keras.optimizers import SGD\n",
    "from keras import backend as K\n",
    "from tensorflow.keras.utils import to_categorical, plot_model\n",
    "from tensorflow.keras import regularizers\n",
    "from keras.layers import InputLayer\n",
    "from sklearn.model_selection import train_test_split\n",
    "from sklearn.preprocessing import StandardScaler\n",
    "from sklearn.metrics import mean_absolute_error, accuracy_score\n",
    "import keras\n",
    "\n",
    "import pandas as pd\n",
    "import numpy as np"
   ]
  },
  {
   "cell_type": "code",
   "execution_count": 98,
   "id": "4e610c05",
   "metadata": {},
   "outputs": [],
   "source": [
    "df = pd.read_csv(\"content/combined_data_10.csv\")"
   ]
  },
  {
   "cell_type": "code",
   "execution_count": 99,
   "id": "01f01357",
   "metadata": {},
   "outputs": [
    {
     "data": {
      "text/plain": [
       "Index(['imdb_title_id', 'title', 'year', 'duration', 'budget',\n",
       "       'weighted_average_vote', 'height', 'children', 'divorces', 'spouses',\n",
       "       'actor_age_at_release', 'actor_age', 'genre_Drama', 'genre_Comedy',\n",
       "       'genre_Comedy, Drama'],\n",
       "      dtype='object')"
      ]
     },
     "execution_count": 99,
     "metadata": {},
     "output_type": "execute_result"
    }
   ],
   "source": [
    "df.columns[:15]"
   ]
  },
  {
   "cell_type": "code",
   "execution_count": 100,
   "id": "4f33f634",
   "metadata": {},
   "outputs": [],
   "source": [
    "y = df[\"weighted_average_vote\"].astype(float)\n",
    "X = df.drop(\n",
    "    [\"imdb_title_id\", \"title\", \"weighted_average_vote\"],\n",
    "    axis=1,\n",
    ").astype(float)"
   ]
  },
  {
   "cell_type": "code",
   "execution_count": 101,
   "id": "593fa448",
   "metadata": {},
   "outputs": [
    {
     "data": {
      "text/plain": [
       "(15690, 88)"
      ]
     },
     "execution_count": 101,
     "metadata": {},
     "output_type": "execute_result"
    }
   ],
   "source": [
    "X.shape"
   ]
  },
  {
   "cell_type": "code",
   "execution_count": 102,
   "id": "af26c6a0",
   "metadata": {},
   "outputs": [],
   "source": [
    "X_train, X_test, y_train, y_test = train_test_split(X, y, test_size=0.4)\n",
    "\n",
    "sc = StandardScaler()\n",
    "X_train = sc.fit_transform(X_train)\n",
    "X_test = sc.transform(X_test)\n",
    "\n",
    "dim = X.shape[1]"
   ]
  },
  {
   "cell_type": "markdown",
   "id": "f4ce422a",
   "metadata": {},
   "source": [
    "### To Do\n",
    "- Change learning rate\n",
    "- Change test train split"
   ]
  },
  {
   "cell_type": "markdown",
   "id": "afed257c",
   "metadata": {},
   "source": [
    "## Nolan's NN"
   ]
  },
  {
   "cell_type": "code",
   "execution_count": 132,
   "id": "4029d1e3",
   "metadata": {},
   "outputs": [],
   "source": [
    "model = Sequential()\n",
    "model.add(\n",
    "    Dense(dim * 2, input_dim=dim, activation=\"relu\")\n",
    ")\n",
    "model.add(Dense(dim, activation=\"sigmoid\"))\n",
    "model.add(Dense(10, activation=\"relu\"))\n",
    "model.add(Dense(1, activation=\"linear\"))"
   ]
  },
  {
   "cell_type": "code",
   "execution_count": 133,
   "id": "94caf988",
   "metadata": {},
   "outputs": [],
   "source": [
    "opt = keras.optimizers.Adam(learning_rate=0.01)\n",
    "\n",
    "model.compile(loss='mae', \n",
    "              optimizer=opt,\n",
    "              metrics=['mae'])"
   ]
  },
  {
   "cell_type": "code",
   "execution_count": 135,
   "id": "d2fb0ec8",
   "metadata": {},
   "outputs": [
    {
     "name": "stdout",
     "output_type": "stream",
     "text": [
      "Epoch 1/10\n",
      "10/10 [==============================] - 0s 5ms/step - loss: 0.7668 - mae: 0.7668\n",
      "Epoch 2/10\n",
      "10/10 [==============================] - 0s 5ms/step - loss: 0.7638 - mae: 0.7638\n",
      "Epoch 3/10\n",
      "10/10 [==============================] - 0s 5ms/step - loss: 0.7619 - mae: 0.7619\n",
      "Epoch 4/10\n",
      "10/10 [==============================] - 0s 6ms/step - loss: 0.7590 - mae: 0.7590\n",
      "Epoch 5/10\n",
      "10/10 [==============================] - 0s 5ms/step - loss: 0.7580 - mae: 0.7580\n",
      "Epoch 6/10\n",
      "10/10 [==============================] - 0s 5ms/step - loss: 0.7571 - mae: 0.7571\n",
      "Epoch 7/10\n",
      "10/10 [==============================] - 0s 5ms/step - loss: 0.7563 - mae: 0.7563\n",
      "Epoch 8/10\n",
      "10/10 [==============================] - 0s 5ms/step - loss: 0.7555 - mae: 0.7555\n",
      "Epoch 9/10\n",
      "10/10 [==============================] - 0s 5ms/step - loss: 0.7549 - mae: 0.7549\n",
      "Epoch 10/10\n",
      "10/10 [==============================] - 0s 5ms/step - loss: 0.7546 - mae: 0.7546\n",
      "MAE: 0.784\n"
     ]
    }
   ],
   "source": [
    "model.fit(X_train, y_train, epochs=10, batch_size=1024)\n",
    "\n",
    "yhat = model.predict(X_test)\n",
    "error = mean_absolute_error(y_test, yhat)\n",
    "print(\"MAE: %.3f\" % error)"
   ]
  },
  {
   "cell_type": "markdown",
   "id": "ee0b0658",
   "metadata": {},
   "source": [
    "## ReLU"
   ]
  },
  {
   "cell_type": "code",
   "execution_count": 106,
   "id": "7ffb0740",
   "metadata": {},
   "outputs": [
    {
     "data": {
      "text/plain": [
       "(9414, 88)"
      ]
     },
     "execution_count": 106,
     "metadata": {},
     "output_type": "execute_result"
    }
   ],
   "source": [
    "X_train.shape"
   ]
  },
  {
   "cell_type": "code",
   "execution_count": 107,
   "id": "05536596",
   "metadata": {},
   "outputs": [
    {
     "name": "stdout",
     "output_type": "stream",
     "text": [
      "Model: \"sequential_9\"\n",
      "_________________________________________________________________\n",
      "Layer (type)                 Output Shape              Param #   \n",
      "=================================================================\n",
      "dense_37 (Dense)             (None, 88)                7832      \n",
      "_________________________________________________________________\n",
      "activation_6 (Activation)    (None, 88)                0         \n",
      "_________________________________________________________________\n",
      "dense_38 (Dense)             (None, 44)                3916      \n",
      "_________________________________________________________________\n",
      "activation_7 (Activation)    (None, 44)                0         \n",
      "_________________________________________________________________\n",
      "dense_39 (Dense)             (None, 20)                900       \n",
      "_________________________________________________________________\n",
      "activation_8 (Activation)    (None, 20)                0         \n",
      "_________________________________________________________________\n",
      "dense_40 (Dense)             (None, 10)                210       \n",
      "_________________________________________________________________\n",
      "activation_9 (Activation)    (None, 10)                0         \n",
      "_________________________________________________________________\n",
      "dense_41 (Dense)             (None, 1)                 11        \n",
      "_________________________________________________________________\n",
      "activation_10 (Activation)   (None, 1)                 0         \n",
      "=================================================================\n",
      "Total params: 12,869\n",
      "Trainable params: 12,869\n",
      "Non-trainable params: 0\n",
      "_________________________________________________________________\n"
     ]
    }
   ],
   "source": [
    "model_seq2 = Sequential()\n",
    "model_seq2.add(Dense(dim, input_dim=dim))\n",
    "model_seq2.add(Activation('relu'))\n",
    "model_seq2.add(Dense(dim/2))\n",
    "model_seq2.add(Activation('relu'))\n",
    "model_seq2.add(Dense(20))\n",
    "model_seq2.add(Activation('relu'))\n",
    "model_seq2.add(Dense(10))\n",
    "model_seq2.add(Activation('relu'))\n",
    "model_seq2.add(Dense(1))\n",
    "model_seq2.add(Activation('linear'))\n",
    "\n",
    "model_seq2.summary()"
   ]
  },
  {
   "cell_type": "code",
   "execution_count": 108,
   "id": "9b782b52",
   "metadata": {},
   "outputs": [],
   "source": [
    "opt = SGD(learning_rate=3.0)\n",
    "\n",
    "model_seq2.compile(loss='mae', \n",
    "              optimizer=opt,\n",
    "              metrics=['mae'])"
   ]
  },
  {
   "cell_type": "code",
   "execution_count": 109,
   "id": "a6dcd9b9",
   "metadata": {},
   "outputs": [
    {
     "name": "stdout",
     "output_type": "stream",
     "text": [
      "Epoch 1/10\n",
      "148/148 [==============================] - 2s 2ms/step - loss: 1314017767874958848.0000 - mae: 1314017767874958848.0000\n",
      "Epoch 2/10\n",
      "148/148 [==============================] - 0s 3ms/step - loss: 1.1300 - mae: 1.1300\n",
      "Epoch 3/10\n",
      "148/148 [==============================] - 0s 3ms/step - loss: 1.1416 - mae: 1.1416\n",
      "Epoch 4/10\n",
      "148/148 [==============================] - 0s 2ms/step - loss: 1.1096 - mae: 1.1096\n",
      "Epoch 5/10\n",
      "148/148 [==============================] - 0s 2ms/step - loss: 1.1323 - mae: 1.1323\n",
      "Epoch 6/10\n",
      "148/148 [==============================] - 0s 2ms/step - loss: 1.1202 - mae: 1.1202\n",
      "Epoch 7/10\n",
      "148/148 [==============================] - 0s 2ms/step - loss: 1.1433 - mae: 1.1433\n",
      "Epoch 8/10\n",
      "148/148 [==============================] - 0s 2ms/step - loss: 1.2057 - mae: 1.2057\n",
      "Epoch 9/10\n",
      "148/148 [==============================] - 0s 2ms/step - loss: 1.1415 - mae: 1.1415\n",
      "Epoch 10/10\n",
      "148/148 [==============================] - 0s 2ms/step - loss: 1.1305 - mae: 1.1305\n",
      "MAE: 0.751\n"
     ]
    }
   ],
   "source": [
    "model_seq2.fit(X_train, y_train, epochs=10, batch_size=64)\n",
    "\n",
    "yhat = model.predict(X_test)\n",
    "error = mean_absolute_error(y_test, yhat)\n",
    "print(\"MAE: %.3f\" % error)"
   ]
  },
  {
   "cell_type": "markdown",
   "id": "b3b8f776",
   "metadata": {},
   "source": [
    "## Sequential Dropout"
   ]
  },
  {
   "cell_type": "code",
   "execution_count": 110,
   "id": "488a094e",
   "metadata": {},
   "outputs": [],
   "source": [
    "dropout = 0.15\n",
    "regularizers = 0.0001"
   ]
  },
  {
   "cell_type": "code",
   "execution_count": 111,
   "id": "51839ba8",
   "metadata": {},
   "outputs": [],
   "source": [
    "model_seq3 = Sequential()\n",
    "model_seq3.add(InputLayer(input_shape=dim))\n",
    "model_seq3.add(Dense(dim, activation=\"relu\"))\n",
    "model_seq3.add(Dropout(dropout))\n",
    "model_seq3.add(\n",
    "    Dense(dim/2, activation=\"relu\", kernel_regularizer=keras.regularizers.l2(regularizers))\n",
    ")\n",
    "model_seq3.add(Dropout(dropout))\n",
    "model_seq3.add(\n",
    "    Dense(10, activation=\"relu\", kernel_regularizer=keras.regularizers.l2(regularizers))\n",
    ")\n",
    "model_seq3.add(Dropout(dropout))\n",
    "model_seq3.add(Dense(1, activation=\"linear\"))\n",
    "model_seq3.add(Activation(\"softmax\"))"
   ]
  },
  {
   "cell_type": "code",
   "execution_count": 112,
   "id": "adf2fe63",
   "metadata": {},
   "outputs": [],
   "source": [
    "opt = SGD(learning_rate=3.0)\n",
    "\n",
    "model_seq3.compile(loss='mean_absolute_error', \n",
    "              optimizer=opt,\n",
    "              metrics=[\"mae\"])"
   ]
  },
  {
   "cell_type": "code",
   "execution_count": 113,
   "id": "27ab4f13",
   "metadata": {},
   "outputs": [
    {
     "name": "stdout",
     "output_type": "stream",
     "text": [
      "Epoch 1/15\n",
      "5/5 [==============================] - 2s 7ms/step - loss: 5.0267 - mae: 5.0193\n",
      "Epoch 2/15\n",
      "5/5 [==============================] - 0s 9ms/step - loss: 5.0229 - mae: 5.0155\n",
      "Epoch 3/15\n",
      "5/5 [==============================] - 0s 8ms/step - loss: 5.0333 - mae: 5.0260\n",
      "Epoch 4/15\n",
      "5/5 [==============================] - 0s 9ms/step - loss: 5.0319 - mae: 5.0246\n",
      "Epoch 5/15\n",
      "5/5 [==============================] - 0s 8ms/step - loss: 5.0216 - mae: 5.0143\n",
      "Epoch 6/15\n",
      "5/5 [==============================] - 0s 18ms/step - loss: 5.0248 - mae: 5.0176\n",
      "Epoch 7/15\n",
      "5/5 [==============================] - 0s 8ms/step - loss: 5.0299 - mae: 5.0228\n",
      "Epoch 8/15\n",
      "5/5 [==============================] - 0s 8ms/step - loss: 5.0228 - mae: 5.0156\n",
      "Epoch 9/15\n",
      "5/5 [==============================] - 0s 9ms/step - loss: 5.0173 - mae: 5.0102\n",
      "Epoch 10/15\n",
      "5/5 [==============================] - 0s 9ms/step - loss: 5.0355 - mae: 5.0284\n",
      "Epoch 11/15\n",
      "5/5 [==============================] - 0s 7ms/step - loss: 5.0226 - mae: 5.0156\n",
      "Epoch 12/15\n",
      "5/5 [==============================] - 0s 9ms/step - loss: 5.0332 - mae: 5.0263\n",
      "Epoch 13/15\n",
      "5/5 [==============================] - 0s 8ms/step - loss: 5.0298 - mae: 5.0229\n",
      "Epoch 14/15\n",
      "5/5 [==============================] - 0s 9ms/step - loss: 5.0239 - mae: 5.0170\n",
      "Epoch 15/15\n",
      "5/5 [==============================] - 0s 8ms/step - loss: 5.0270 - mae: 5.0201\n"
     ]
    },
    {
     "data": {
      "text/plain": [
       "<keras.callbacks.History at 0x16cd43760>"
      ]
     },
     "execution_count": 113,
     "metadata": {},
     "output_type": "execute_result"
    }
   ],
   "source": [
    "model_seq3.fit(X_train, y_train, epochs=15, batch_size=2048)"
   ]
  },
  {
   "cell_type": "code",
   "execution_count": 114,
   "id": "1162ad6c",
   "metadata": {},
   "outputs": [
    {
     "name": "stdout",
     "output_type": "stream",
     "text": [
      "MAE: 5.035\n"
     ]
    }
   ],
   "source": [
    "yhat = model_seq3.predict(X_test)\n",
    "error = mean_absolute_error(y_test, yhat)\n",
    "print(\"MAE: %.3f\" % error)"
   ]
  },
  {
   "cell_type": "code",
   "execution_count": null,
   "id": "ca04d983",
   "metadata": {},
   "outputs": [],
   "source": []
  }
 ],
 "metadata": {
  "kernelspec": {
   "display_name": "Python 3",
   "language": "python",
   "name": "python3"
  },
  "language_info": {
   "codemirror_mode": {
    "name": "ipython",
    "version": 3
   },
   "file_extension": ".py",
   "mimetype": "text/x-python",
   "name": "python",
   "nbconvert_exporter": "python",
   "pygments_lexer": "ipython3",
   "version": "3.9.5"
  }
 },
 "nbformat": 4,
 "nbformat_minor": 5
}
