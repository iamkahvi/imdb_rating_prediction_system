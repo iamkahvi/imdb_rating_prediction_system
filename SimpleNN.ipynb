{
 "cells": [
  {
   "cell_type": "code",
   "execution_count": 1,
   "source": [
    "from tensorflow.keras.models import Sequential\n",
    "from tensorflow.keras.layers import Dense\n",
    "from sklearn.model_selection import train_test_split\n",
    "from sklearn.metrics import mean_absolute_error, accuracy_score\n",
    "from tensorflow.keras.utils import to_categorical\n",
    "from sklearn.preprocessing import StandardScaler\n",
    "import keras\n",
    "import pandas as pd\n",
    "import numpy as np\n",
    "\n",
    "df = pd.read_csv(\"content/combined_data.csv\")\n",
    "\n",
    "y = df[\"weighted_average_vote\"].astype(float)\n",
    "X = df.drop(\n",
    "    [\"imdb_title_id\", \"title\", \"weighted_average_vote\", \"mean_vote\", \"total_votes\"],\n",
    "    axis=1,\n",
    ").astype(float)\n",
    "X_train, X_test, y_train, y_test = train_test_split(X, y, test_size=0.7)\n",
    "\n",
    "sc = StandardScaler()\n",
    "X_train = sc.fit_transform(X_train)\n",
    "X_test = sc.transform(X_test)\n",
    "\n",
    "dim = X.shape[1]\n",
    "\n",
    "# define the keras model\n",
    "model = Sequential()\n",
    "model.add(\n",
    "    Dense(dim * 2, input_dim=dim, activation=\"relu\", kernel_initializer=\"he_normal\")\n",
    ")\n",
    "model.add(Dense(dim, activation=\"sigmoid\", kernel_initializer=\"he_normal\"))\n",
    "model.add(Dense(10, activation=\"relu\", kernel_initializer=\"he_normal\"))\n",
    "model.add(Dense(1, activation=\"linear\"))\n",
    "\n",
    "model.compile(loss=\"mse\", optimizer=\"adam\", metrics=[\"mse\", \"mae\"])\n",
    "\n",
    "model.fit(X_train, y_train, epochs=10, batch_size=10)\n",
    "\n",
    "\n",
    "yhat = model.predict(X_test)\n",
    "error = mean_absolute_error(y_test, yhat)\n",
    "print(\"MAE: %.3f\" % error)"
   ],
   "outputs": [
    {
     "output_type": "stream",
     "name": "stdout",
     "text": [
      "Epoch 1/10\n",
      "376/376 [==============================] - 3s 6ms/step - loss: 1.2817 - mse: 1.2817 - mae: 0.8329\n",
      "Epoch 2/10\n",
      "376/376 [==============================] - 2s 6ms/step - loss: 0.8302 - mse: 0.8302 - mae: 0.6903\n",
      "Epoch 3/10\n",
      "376/376 [==============================] - 2s 5ms/step - loss: 0.7334 - mse: 0.7334 - mae: 0.6441\n",
      "Epoch 4/10\n",
      "376/376 [==============================] - 2s 5ms/step - loss: 0.6713 - mse: 0.6713 - mae: 0.6124\n",
      "Epoch 5/10\n",
      "376/376 [==============================] - 2s 6ms/step - loss: 0.6172 - mse: 0.6172 - mae: 0.5793\n",
      "Epoch 6/10\n",
      "376/376 [==============================] - 2s 6ms/step - loss: 0.5827 - mse: 0.5827 - mae: 0.5619\n",
      "Epoch 7/10\n",
      "376/376 [==============================] - 2s 6ms/step - loss: 0.5364 - mse: 0.5364 - mae: 0.5355\n",
      "Epoch 8/10\n",
      "376/376 [==============================] - 2s 6ms/step - loss: 0.5193 - mse: 0.5193 - mae: 0.5180\n",
      "Epoch 9/10\n",
      "376/376 [==============================] - 2s 5ms/step - loss: 0.4812 - mse: 0.4812 - mae: 0.5034\n",
      "Epoch 10/10\n",
      "376/376 [==============================] - 2s 5ms/step - loss: 0.4328 - mse: 0.4328 - mae: 0.4682\n",
      "MAE: 0.745\n"
     ]
    }
   ],
   "metadata": {}
  },
  {
   "cell_type": "code",
   "execution_count": null,
   "source": [],
   "outputs": [],
   "metadata": {}
  }
 ],
 "metadata": {
  "interpreter": {
   "hash": "63fd5069d213b44bf678585dea6b12cceca9941eaf7f819626cde1f2670de90d"
  },
  "kernelspec": {
   "display_name": "Python 3",
   "language": "python",
   "name": "python3"
  },
  "language_info": {
   "codemirror_mode": {
    "name": "ipython",
    "version": 3
   },
   "file_extension": ".py",
   "mimetype": "text/x-python",
   "name": "python",
   "nbconvert_exporter": "python",
   "pygments_lexer": "ipython3",
   "version": "3.9.5"
  }
 },
 "nbformat": 4,
 "nbformat_minor": 2
}