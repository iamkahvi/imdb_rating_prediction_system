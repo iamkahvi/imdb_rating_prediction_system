{
 "cells": [
  {
   "cell_type": "code",
   "execution_count": 2,
   "source": [
    "from tensorflow.keras.models import Sequential\r\n",
    "from tensorflow.keras.layers import Dense\r\n",
    "from sklearn.model_selection import train_test_split\r\n",
    "from sklearn.metrics import mean_absolute_error, accuracy_score\r\n",
    "from tensorflow.keras.utils import to_categorical\r\n",
    "from sklearn.preprocessing import StandardScaler\r\n",
    "import keras\r\n",
    "import pandas as pd\r\n",
    "import numpy as np\r\n",
    "\r\n",
    "df = pd.read_csv('content/combined_data.csv')\r\n",
    "\r\n",
    "y = df['weighted_average_vote'].astype(float)\r\n",
    "X = df.drop(['imdb_title_id', 'title', 'weighted_average_vote', 'mean_vote', 'total_votes'], axis=1).astype(float)\r\n",
    "X_train, X_test, y_train, y_test = train_test_split(X, y, test_size=0.7)\r\n",
    "\r\n",
    "sc = StandardScaler()\r\n",
    "X_train = sc.fit_transform(X_train)\r\n",
    "X_test = sc.transform(X_test)\r\n",
    "\r\n",
    "dim = X.shape[1]\r\n",
    "\r\n",
    "# define the keras model\r\n",
    "model = Sequential()\r\n",
    "model.add(Dense(dim*2, input_dim=dim, activation='relu', kernel_initializer='he_normal'))\r\n",
    "model.add(Dense(dim, activation='sigmoid', kernel_initializer='he_normal'))\r\n",
    "model.add(Dense(10, activation='relu', kernel_initializer='he_normal'))\r\n",
    "model.add(Dense(1, activation='linear'))\r\n",
    "\r\n",
    "model.compile(loss='mse', optimizer='adam', metrics=['mse', 'mae'])\r\n",
    "\r\n",
    "model.fit(X_train, y_train, epochs=10, batch_size=10)\r\n",
    "\r\n",
    "\r\n",
    "yhat = model.predict(X_test)\r\n",
    "error = mean_absolute_error(y_test, yhat)\r\n",
    "print('MAE: %.3f' % error)"
   ],
   "outputs": [
    {
     "output_type": "stream",
     "name": "stdout",
     "text": [
      "Epoch 1/10\n",
      "684/684 [==============================] - 24s 33ms/step - loss: 1.3804 - mse: 1.3804 - mae: 0.8820\n",
      "Epoch 2/10\n",
      "684/684 [==============================] - 22s 33ms/step - loss: 1.0179 - mse: 1.0179 - mae: 0.7714\n",
      "Epoch 3/10\n",
      "684/684 [==============================] - 23s 33ms/step - loss: 0.9293 - mse: 0.9293 - mae: 0.7361\n",
      "Epoch 4/10\n",
      "684/684 [==============================] - 22s 32ms/step - loss: 0.8948 - mse: 0.8948 - mae: 0.7165\n",
      "Epoch 5/10\n",
      "684/684 [==============================] - 22s 32ms/step - loss: 0.8313 - mse: 0.8313 - mae: 0.6877\n",
      "Epoch 6/10\n",
      "684/684 [==============================] - 22s 33ms/step - loss: 0.7855 - mse: 0.7855 - mae: 0.6603\n",
      "Epoch 7/10\n",
      "684/684 [==============================] - 22s 32ms/step - loss: 0.7590 - mse: 0.7590 - mae: 0.6544\n",
      "Epoch 8/10\n",
      "684/684 [==============================] - 22s 32ms/step - loss: 0.7301 - mse: 0.7301 - mae: 0.6369\n",
      "Epoch 9/10\n",
      "684/684 [==============================] - 22s 33ms/step - loss: 0.7067 - mse: 0.7067 - mae: 0.6230\n",
      "Epoch 10/10\n",
      "684/684 [==============================] - 23s 34ms/step - loss: 0.6739 - mse: 0.6739 - mae: 0.6026\n",
      "MAE: 0.813\n"
     ]
    }
   ],
   "metadata": {}
  }
 ],
 "metadata": {
  "orig_nbformat": 4,
  "language_info": {
   "name": "python",
   "version": "3.9.0",
   "mimetype": "text/x-python",
   "codemirror_mode": {
    "name": "ipython",
    "version": 3
   },
   "pygments_lexer": "ipython3",
   "nbconvert_exporter": "python",
   "file_extension": ".py"
  },
  "kernelspec": {
   "name": "python3",
   "display_name": "Python 3.9.0 64-bit"
  },
  "interpreter": {
   "hash": "63fd5069d213b44bf678585dea6b12cceca9941eaf7f819626cde1f2670de90d"
  }
 },
 "nbformat": 4,
 "nbformat_minor": 2
}