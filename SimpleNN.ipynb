{
 "cells": [
  {
   "cell_type": "code",
   "execution_count": 13,
   "source": [
    "from tensorflow.keras.models import Sequential\r\n",
    "from tensorflow.keras.layers import Dense\r\n",
    "from sklearn.model_selection import train_test_split\r\n",
    "from sklearn.metrics import mean_absolute_error, accuracy_score\r\n",
    "from tensorflow.keras.utils import to_categorical\r\n",
    "from sklearn.preprocessing import StandardScaler\r\n",
    "import keras\r\n",
    "import pandas as pd\r\n",
    "import numpy as np\r\n",
    "\r\n",
    "df = pd.read_csv('content/combined_data.csv')\r\n",
    "\r\n",
    "y = df['weighted_average_vote'].astype(float)\r\n",
    "X = df.drop(['imdb_title_id', 'title', 'weighted_average_vote', 'mean_vote', 'total_votes'], axis=1).astype(float)\r\n",
    "X_train, X_test, y_train, y_test = train_test_split(X, y, test_size=0.7)\r\n",
    "\r\n",
    "sc = StandardScaler()\r\n",
    "X_train = sc.fit_transform(X_train)\r\n",
    "X_test = sc.transform(X_test)\r\n",
    "\r\n",
    "dim = X.shape[1]\r\n",
    "\r\n",
    "# define the keras model\r\n",
    "model = Sequential()\r\n",
    "model.add(Dense(dim*2, input_dim=dim, activation='relu', kernel_initializer='he_normal'))\r\n",
    "model.add(Dense(dim, activation='sigmoid', kernel_initializer='he_normal'))\r\n",
    "model.add(Dense(10, activation='relu', kernel_initializer='he_normal'))\r\n",
    "model.add(Dense(1, activation='linear'))\r\n",
    "\r\n",
    "model.compile(loss='mse', optimizer='adam', metrics=['mse', 'mae'])\r\n",
    "\r\n",
    "model.fit(X_train, y_train, epochs=10, batch_size=10)\r\n",
    "\r\n",
    "\r\n",
    "yhat = model.predict(X_test)\r\n",
    "error = mean_absolute_error(y_test, yhat)\r\n",
    "print('MAE: %.3f' % error)"
   ],
   "outputs": [
    {
     "output_type": "stream",
     "name": "stdout",
     "text": [
      "Epoch 1/10\n",
      "376/376 [==============================] - 6s 14ms/step - loss: 1.5032 - mse: 1.5032 - mae: 0.8596\n",
      "Epoch 2/10\n",
      "376/376 [==============================] - 5s 14ms/step - loss: 0.8159 - mse: 0.8159 - mae: 0.6840\n",
      "Epoch 3/10\n",
      "376/376 [==============================] - 5s 14ms/step - loss: 0.7282 - mse: 0.7282 - mae: 0.6451\n",
      "Epoch 4/10\n",
      "376/376 [==============================] - 5s 14ms/step - loss: 0.6743 - mse: 0.6743 - mae: 0.6183\n",
      "Epoch 5/10\n",
      "376/376 [==============================] - 5s 14ms/step - loss: 0.6134 - mse: 0.6134 - mae: 0.5897\n",
      "Epoch 6/10\n",
      "376/376 [==============================] - 5s 14ms/step - loss: 0.5833 - mse: 0.5833 - mae: 0.5701\n",
      "Epoch 7/10\n",
      "376/376 [==============================] - 5s 14ms/step - loss: 0.5359 - mse: 0.5359 - mae: 0.5435\n",
      "Epoch 8/10\n",
      "376/376 [==============================] - 5s 14ms/step - loss: 0.5030 - mse: 0.5030 - mae: 0.5234\n",
      "Epoch 9/10\n",
      "376/376 [==============================] - 5s 14ms/step - loss: 0.4748 - mse: 0.4748 - mae: 0.5068\n",
      "Epoch 10/10\n",
      "376/376 [==============================] - 5s 14ms/step - loss: 0.4453 - mse: 0.4453 - mae: 0.4874\n",
      "MAE: 0.746\n"
     ]
    }
   ],
   "metadata": {}
  }
 ],
 "metadata": {
  "orig_nbformat": 4,
  "language_info": {
   "name": "python",
   "version": "3.9.0",
   "mimetype": "text/x-python",
   "codemirror_mode": {
    "name": "ipython",
    "version": 3
   },
   "pygments_lexer": "ipython3",
   "nbconvert_exporter": "python",
   "file_extension": ".py"
  },
  "kernelspec": {
   "name": "python3",
   "display_name": "Python 3.9.0 64-bit"
  },
  "interpreter": {
   "hash": "63fd5069d213b44bf678585dea6b12cceca9941eaf7f819626cde1f2670de90d"
  }
 },
 "nbformat": 4,
 "nbformat_minor": 2
}