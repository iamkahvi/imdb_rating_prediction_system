{
 "cells": [
  {
   "cell_type": "code",
   "execution_count": 4,
   "metadata": {
    "scrolled": false
   },
   "outputs": [],
   "source": [
    "from tensorflow.keras.models import Sequential\n",
    "from tensorflow.keras.layers import Dense, Dropout\n",
    "from sklearn.model_selection import train_test_split\n",
    "from sklearn.metrics import mean_absolute_error, accuracy_score\n",
    "from tensorflow.keras.utils import to_categorical\n",
    "from sklearn.preprocessing import StandardScaler\n",
    "import matplotlib.pyplot as plt\n",
    "import keras\n",
    "import pandas as pd\n",
    "import numpy as np"
   ]
  },
  {
   "cell_type": "code",
   "execution_count": 8,
   "metadata": {},
   "outputs": [],
   "source": [
    "datasets = {\n",
    "    \"No encoded columns\": \"content/combined_data_none_encoded.csv\",\n",
    "    \"No encoded columns except year, binned actor_age and actor gender\": \"content/combined_data_not_encoded.csv\",\n",
    "    \"Encoding top 10 categories with over 50% represented\": \"content/combined_data_all_encoded_10.csv\",\n",
    "    \"Encoding top 100 categories with over 50% represented\": \"content/combined_data_all_encoded_100.csv\",\n",
    "    \"Encoding top 500 categories with over 50% represented\": \"content/combined_data_all_encoded_500.csv\",\n",
    "    \"Encoding list top 10 categories\": \"content/combined_data_all_list_encoded_10.csv\",\n",
    "    \"Encoding list top 100 categories\": \"content/combined_data_all_list_encoded_100.csv\"\n",
    "}"
   ]
  },
  {
   "cell_type": "code",
   "execution_count": 10,
   "metadata": {
    "scrolled": false
   },
   "outputs": [
    {
     "name": "stdout",
     "output_type": "stream",
     "text": [
      "\n",
      "content/combined_data_all_list_encoded_10.csv\n",
      "Epoch 1/10\n",
      "74/74 [==============================] - 1s 8ms/step - loss: 3.6366 - mse: 3.6366 - mae: 1.3328 - val_loss: 1.1181 - val_mse: 1.1181 - val_mae: 0.8071\n",
      "Epoch 2/10\n",
      "74/74 [==============================] - 0s 6ms/step - loss: 1.0096 - mse: 1.0096 - mae: 0.7739 - val_loss: 1.0185 - val_mse: 1.0185 - val_mae: 0.7619\n",
      "Epoch 3/10\n",
      "74/74 [==============================] - 0s 6ms/step - loss: 0.9157 - mse: 0.9157 - mae: 0.7361 - val_loss: 0.9894 - val_mse: 0.9894 - val_mae: 0.7465\n",
      "Epoch 4/10\n",
      "74/74 [==============================] - 0s 5ms/step - loss: 0.8609 - mse: 0.8609 - mae: 0.7132 - val_loss: 0.9655 - val_mse: 0.9655 - val_mae: 0.7436\n",
      "Epoch 5/10\n",
      "74/74 [==============================] - 0s 5ms/step - loss: 0.8216 - mse: 0.8216 - mae: 0.6966 - val_loss: 0.9582 - val_mse: 0.9582 - val_mae: 0.7412\n",
      "Epoch 6/10\n",
      "74/74 [==============================] - 0s 6ms/step - loss: 0.7798 - mse: 0.7798 - mae: 0.6782 - val_loss: 0.9571 - val_mse: 0.9571 - val_mae: 0.7406\n",
      "Epoch 7/10\n",
      "74/74 [==============================] - 0s 5ms/step - loss: 0.7373 - mse: 0.7373 - mae: 0.6580 - val_loss: 0.9629 - val_mse: 0.9629 - val_mae: 0.7549\n",
      "Epoch 8/10\n",
      "74/74 [==============================] - 1s 7ms/step - loss: 0.6882 - mse: 0.6882 - mae: 0.6336 - val_loss: 0.9621 - val_mse: 0.9621 - val_mae: 0.7440\n",
      "Epoch 9/10\n",
      "74/74 [==============================] - 1s 8ms/step - loss: 0.6390 - mse: 0.6390 - mae: 0.6077 - val_loss: 0.9649 - val_mse: 0.9649 - val_mae: 0.7484\n",
      "Epoch 10/10\n",
      "74/74 [==============================] - 1s 8ms/step - loss: 0.5789 - mse: 0.5789 - mae: 0.5760 - val_loss: 0.9777 - val_mse: 0.9777 - val_mae: 0.7507\n",
      "\n",
      "Encoding list top 10 categories\n",
      "MAE: 0.751\n",
      "\n"
     ]
    }
   ],
   "source": [
    "maes = []\n",
    "\n",
    "\n",
    "df = pd.read_csv(datasets[\"Encoding list top 100 categories\"])\n",
    "print(\"\\n\" + fp)\n",
    "\n",
    "y = df[\"weighted_average_vote\"].astype(float)\n",
    "df = df.drop([\"weighted_average_vote\"], axis=1)\n",
    "\n",
    "if \"imdb_title_id\" in df.columns:\n",
    "    X = df.drop(\n",
    "        [\"imdb_title_id\", \"title\"],\n",
    "        axis=1,\n",
    "    ).astype(float)\n",
    "\n",
    "X_train, X_test, y_train, y_test = train_test_split(X, y, test_size=0.4)\n",
    "\n",
    "dim = X.shape[1]\n",
    "\n",
    "# define the keras model\n",
    "model = Sequential()\n",
    "model.add(\n",
    "    Dense(dim * 2, input_dim=dim, activation=\"relu\", kernel_initializer=\"he_normal\")\n",
    ")\n",
    "model.add(Dense(dim, activation=\"sigmoid\", kernel_initializer=\"he_normal\"))\n",
    "model.add(Dense(10, activation=\"relu\", kernel_initializer=\"he_normal\"))\n",
    "model.add(Dense(1, activation=\"linear\"))\n",
    "\n",
    "model.compile(loss=\"mse\", optimizer=\"adam\", metrics=[\"mse\", \"mae\"])\n",
    "\n",
    "hist = model.fit(\n",
    "    X_train, y_train, epochs=10, batch_size=128, validation_data=(X_test, y_test)\n",
    ").history\n",
    "\n",
    "yhat = model.predict(X_test)\n",
    "error = mean_absolute_error(y_test, yhat)\n",
    "print(\"\\n\" + desc)\n",
    "\n",
    "maes.append(hist)\n",
    "\n",
    "print(\"MAE: %.3f\\n\" % error)"
   ]
  },
  {
   "cell_type": "code",
   "execution_count": 13,
   "metadata": {},
   "outputs": [
    {
     "name": "stdout",
     "output_type": "stream",
     "text": [
      "file: none encoded - MAE: 0.751\n"
     ]
    },
    {
     "data": {
      "image/png": "[encoded data removed]",
      "text/plain": [
       "<Figure size 432x288 with 1 Axes>"
      ]
     },
     "metadata": {
      "needs_background": "light"
     },
     "output_type": "display_data"
    }
   ],
   "source": [
    "from matplotlib.ticker import FormatStrFormatter\n",
    "\n",
    "plt.title(\"MAEs\")\n",
    "\n",
    "mae_val = hist[\"val_mae\"][9]\n",
    "\n",
    "plt.plot(hist[\"mae\"][1:])\n",
    "plt.plot(hist[\"val_mae\"][1:])\n",
    "plt.plot([mae_val for i in range(10)])\n",
    "plt.legend([\"Training\", \"Testing\", \"MAE val\"])\n",
    "plt.ylabel(\"MAEs (%)\")\n",
    "plt.xlabel(\"Epoch\")\n",
    "\n",
    "print(f\"file: {titles[i]} - MAE: {mae_val:.3f}\")\n",
    "\n",
    "plt.savefig(\"datasetMAEs.png\" ,bbox_inches=\"tight\", facecolor=\"white\")\n",
    "plt.show()"
   ]
  },
  {
   "cell_type": "code",
   "execution_count": null,
   "metadata": {
    "scrolled": false
   },
   "outputs": [],
   "source": [
    "mae_vals = [h[\"val_mae\"][9] for h in maes]\n",
    "\n",
    "plt.scatter(\n",
    "    titles,\n",
    "    mae_vals\n",
    ")\n",
    "plt.grid(b=True, axis=\"y\")\n",
    "plt.xlabel(\"Datasets\")\n",
    "plt.ylabel(\"MAE values\")\n",
    "plt.gcf().set_size_inches(8, 5, forward=True)"
   ]
  },
  {
   "cell_type": "code",
   "execution_count": null,
   "metadata": {},
   "outputs": [],
   "source": []
  }
 ],
 "metadata": {
  "interpreter": {
   "hash": "63fd5069d213b44bf678585dea6b12cceca9941eaf7f819626cde1f2670de90d"
  },
  "kernelspec": {
   "display_name": "Python 3",
   "language": "python",
   "name": "python3"
  },
  "language_info": {
   "codemirror_mode": {
    "name": "ipython",
    "version": 3
   },
   "file_extension": ".py",
   "mimetype": "text/x-python",
   "name": "python",
   "nbconvert_exporter": "python",
   "pygments_lexer": "ipython3",
   "version": "3.9.5"
  }
 },
 "nbformat": 4,
 "nbformat_minor": 2
}
