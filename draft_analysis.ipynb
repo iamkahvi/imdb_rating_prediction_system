{
 "cells": [
  {
   "cell_type": "code",
   "execution_count": 17,
   "id": "6415619f",
   "metadata": {},
   "outputs": [
    {
     "data": {
      "text/plain": [
       "Index(['movieId', 'customerId', 'rating', 'date'], dtype='object')"
      ]
     },
     "execution_count": 17,
     "metadata": {},
     "output_type": "execute_result"
    }
   ],
   "source": [
    "import pandas as pd\n",
    "import numpy as np\n",
    "\n",
    "df = pd.read_csv('data/combined_data_1.txt.csv')"
   ]
  },
  {
   "cell_type": "code",
   "execution_count": 19,
   "id": "88293e98",
   "metadata": {},
   "outputs": [
    {
     "data": {
      "text/plain": [
       "movieId        int64\n",
       "customerId     int64\n",
       "rating         int64\n",
       "date          object\n",
       "dtype: object"
      ]
     },
     "execution_count": 19,
     "metadata": {},
     "output_type": "execute_result"
    }
   ],
   "source": [
    "df.dtypes"
   ]
  },
  {
   "cell_type": "code",
   "execution_count": 29,
   "id": "9b7eb8c6",
   "metadata": {},
   "outputs": [
    {
     "data": {
      "text/html": [
       "<div>\n",
       "<style scoped>\n",
       "    .dataframe tbody tr th:only-of-type {\n",
       "        vertical-align: middle;\n",
       "    }\n",
       "\n",
       "    .dataframe tbody tr th {\n",
       "        vertical-align: top;\n",
       "    }\n",
       "\n",
       "    .dataframe thead th {\n",
       "        text-align: right;\n",
       "    }\n",
       "</style>\n",
       "<table border=\"1\" class=\"dataframe\">\n",
       "  <thead>\n",
       "    <tr style=\"text-align: right;\">\n",
       "      <th></th>\n",
       "      <th>movieId</th>\n",
       "      <th>customerId</th>\n",
       "      <th>rating</th>\n",
       "      <th>date</th>\n",
       "    </tr>\n",
       "  </thead>\n",
       "  <tbody>\n",
       "    <tr>\n",
       "      <th>79232</th>\n",
       "      <td>28</td>\n",
       "      <td>1851044</td>\n",
       "      <td>5</td>\n",
       "      <td>2004-03-24</td>\n",
       "    </tr>\n",
       "    <tr>\n",
       "      <th>401021</th>\n",
       "      <td>111</td>\n",
       "      <td>1851044</td>\n",
       "      <td>5</td>\n",
       "      <td>2004-08-16</td>\n",
       "    </tr>\n",
       "    <tr>\n",
       "      <th>783221</th>\n",
       "      <td>191</td>\n",
       "      <td>1851044</td>\n",
       "      <td>5</td>\n",
       "      <td>2004-03-26</td>\n",
       "    </tr>\n",
       "    <tr>\n",
       "      <th>1630391</th>\n",
       "      <td>313</td>\n",
       "      <td>1851044</td>\n",
       "      <td>5</td>\n",
       "      <td>2004-03-24</td>\n",
       "    </tr>\n",
       "    <tr>\n",
       "      <th>1715075</th>\n",
       "      <td>329</td>\n",
       "      <td>1851044</td>\n",
       "      <td>5</td>\n",
       "      <td>2004-03-24</td>\n",
       "    </tr>\n",
       "    <tr>\n",
       "      <th>...</th>\n",
       "      <td>...</td>\n",
       "      <td>...</td>\n",
       "      <td>...</td>\n",
       "      <td>...</td>\n",
       "    </tr>\n",
       "    <tr>\n",
       "      <th>23252724</th>\n",
       "      <td>4356</td>\n",
       "      <td>1851044</td>\n",
       "      <td>5</td>\n",
       "      <td>2004-03-24</td>\n",
       "    </tr>\n",
       "    <tr>\n",
       "      <th>23456016</th>\n",
       "      <td>4389</td>\n",
       "      <td>1851044</td>\n",
       "      <td>5</td>\n",
       "      <td>2004-03-26</td>\n",
       "    </tr>\n",
       "    <tr>\n",
       "      <th>23569673</th>\n",
       "      <td>4402</td>\n",
       "      <td>1851044</td>\n",
       "      <td>5</td>\n",
       "      <td>2004-03-30</td>\n",
       "    </tr>\n",
       "    <tr>\n",
       "      <th>23750098</th>\n",
       "      <td>4432</td>\n",
       "      <td>1851044</td>\n",
       "      <td>5</td>\n",
       "      <td>2004-03-24</td>\n",
       "    </tr>\n",
       "    <tr>\n",
       "      <th>24003482</th>\n",
       "      <td>4488</td>\n",
       "      <td>1851044</td>\n",
       "      <td>5</td>\n",
       "      <td>2004-05-05</td>\n",
       "    </tr>\n",
       "  </tbody>\n",
       "</table>\n",
       "<p>80 rows × 4 columns</p>\n",
       "</div>"
      ],
      "text/plain": [
       "          movieId  customerId  rating        date\n",
       "79232          28     1851044       5  2004-03-24\n",
       "401021        111     1851044       5  2004-08-16\n",
       "783221        191     1851044       5  2004-03-26\n",
       "1630391       313     1851044       5  2004-03-24\n",
       "1715075       329     1851044       5  2004-03-24\n",
       "...           ...         ...     ...         ...\n",
       "23252724     4356     1851044       5  2004-03-24\n",
       "23456016     4389     1851044       5  2004-03-26\n",
       "23569673     4402     1851044       5  2004-03-30\n",
       "23750098     4432     1851044       5  2004-03-24\n",
       "24003482     4488     1851044       5  2004-05-05\n",
       "\n",
       "[80 rows x 4 columns]"
      ]
     },
     "execution_count": 29,
     "metadata": {},
     "output_type": "execute_result"
    }
   ],
   "source": [
    "df[(df[\"customerId\"] == 1851044) & (df[\"rating\"] == 5)]"
   ]
  },
  {
   "cell_type": "code",
   "execution_count": null,
   "id": "5dc0995c",
   "metadata": {},
   "outputs": [],
   "source": []
  }
 ],
 "metadata": {
  "kernelspec": {
   "display_name": "Python 3",
   "language": "python",
   "name": "python3"
  },
  "language_info": {
   "codemirror_mode": {
    "name": "ipython",
    "version": 3
   },
   "file_extension": ".py",
   "mimetype": "text/x-python",
   "name": "python",
   "nbconvert_exporter": "python",
   "pygments_lexer": "ipython3",
   "version": "3.9.5"
  }
 },
 "nbformat": 4,
 "nbformat_minor": 5
}
